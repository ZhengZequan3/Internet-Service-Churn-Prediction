{
 "cells": [
  {
   "cell_type": "markdown",
   "id": "317d431b",
   "metadata": {},
   "source": [
    "## Background\n",
    "\n",
    "Customer is an important resource of the enterprise, but aslo the intangible assets of the enterprise. The loss of customer means the loss of assets. Therefore, the churn prediction is very important. Preventing and avoiding the churn reduction to improve the profitability and competitveness of enterpriese.\n",
    "\n",
    "This dataset collects data about the information of customers using TV service and the customers whether churn or not."
   ]
  },
  {
   "cell_type": "markdown",
   "id": "cb20196d",
   "metadata": {},
   "source": [
    "## Obejective\n",
    "\n",
    "1. Identify the profile of customers that are likely to churn with available features.\n",
    "\n",
    "2. Build modle that predict probability of whether customers will churn or not.\n",
    "\n",
    "3. Build modle that clustering analysis, propose specific solutions for different types of churns."
   ]
  },
  {
   "cell_type": "code",
   "execution_count": 6,
   "id": "f685f640",
   "metadata": {},
   "outputs": [],
   "source": [
    "import numpy as np\n",
    "import pandas as pd\n",
    "\n",
    "import matplotlib.pyplot as plt\n",
    "from matplotlib import rcParams\n",
    "import seaborn as sns \n",
    "plt.rcParams['font.sans-serif']=['Heiti TC']\n",
    "plt.rcParams['axes.unicode_minus']=False\n",
    "import warnings\n",
    "warnings.filterwarnings(\"ignore\")\n",
    "\n",
    "# pyecharts\n",
    "from pyecharts import options as opts\n",
    "from pyecharts.charts import *\n",
    "\n",
    "import itertools\n",
    "from itertools import chain\n",
    "\n",
    "from sklearn.preprocessing import  LabelEncoder,scale\n",
    "from sklearn.neighbors import KNeighborsClassifier\n",
    "from sklearn.model_selection import  train_test_split\n",
    "from sklearn.metrics import r2_score,mean_squared_error,accuracy_score,mean_absolute_error,mean_absolute_percentage_error\n",
    "\n",
    "from IPython.core.interactiveshell import InteractiveShell\n",
    "InteractiveShell.ast_node_interactivity = \"all\""
   ]
  },
  {
   "cell_type": "markdown",
   "id": "efcce50d",
   "metadata": {},
   "source": [
    "## Import Dataset"
   ]
  },
  {
   "cell_type": "code",
   "execution_count": 7,
   "id": "2a5494f3",
   "metadata": {},
   "outputs": [],
   "source": [
    "# Load \"internet_service_churn.csv\"\n",
    "train_df = pd.read_csv('internet_service_churn.csv', \n",
    "                  header=0, sep=\",\")"
   ]
  },
  {
   "cell_type": "markdown",
   "id": "f6b60c4f",
   "metadata": {},
   "source": [
    "## Dataset Information\n"
   ]
  },
  {
   "cell_type": "code",
   "execution_count": 9,
   "id": "d2ba0f5c",
   "metadata": {},
   "outputs": [
    {
     "data": {
      "text/plain": [
       "(72274, 11)"
      ]
     },
     "execution_count": 9,
     "metadata": {},
     "output_type": "execute_result"
    },
    {
     "data": {
      "text/html": [
       "<div>\n",
       "<style scoped>\n",
       "    .dataframe tbody tr th:only-of-type {\n",
       "        vertical-align: middle;\n",
       "    }\n",
       "\n",
       "    .dataframe tbody tr th {\n",
       "        vertical-align: top;\n",
       "    }\n",
       "\n",
       "    .dataframe thead th {\n",
       "        text-align: right;\n",
       "    }\n",
       "</style>\n",
       "<table border=\"1\" class=\"dataframe\">\n",
       "  <thead>\n",
       "    <tr style=\"text-align: right;\">\n",
       "      <th></th>\n",
       "      <th>id</th>\n",
       "      <th>is_tv_subscriber</th>\n",
       "      <th>is_movie_package_subscriber</th>\n",
       "      <th>subscription_age</th>\n",
       "      <th>bill_avg</th>\n",
       "      <th>reamining_contract</th>\n",
       "      <th>service_failure_count</th>\n",
       "      <th>download_avg</th>\n",
       "      <th>upload_avg</th>\n",
       "      <th>download_over_limit</th>\n",
       "      <th>churn</th>\n",
       "    </tr>\n",
       "  </thead>\n",
       "  <tbody>\n",
       "    <tr>\n",
       "      <th>0</th>\n",
       "      <td>15</td>\n",
       "      <td>1</td>\n",
       "      <td>0</td>\n",
       "      <td>11.95</td>\n",
       "      <td>25</td>\n",
       "      <td>0.14</td>\n",
       "      <td>0</td>\n",
       "      <td>8.4</td>\n",
       "      <td>2.3</td>\n",
       "      <td>0</td>\n",
       "      <td>0</td>\n",
       "    </tr>\n",
       "    <tr>\n",
       "      <th>1</th>\n",
       "      <td>18</td>\n",
       "      <td>0</td>\n",
       "      <td>0</td>\n",
       "      <td>8.22</td>\n",
       "      <td>0</td>\n",
       "      <td>NaN</td>\n",
       "      <td>0</td>\n",
       "      <td>0.0</td>\n",
       "      <td>0.0</td>\n",
       "      <td>0</td>\n",
       "      <td>1</td>\n",
       "    </tr>\n",
       "    <tr>\n",
       "      <th>2</th>\n",
       "      <td>23</td>\n",
       "      <td>1</td>\n",
       "      <td>0</td>\n",
       "      <td>8.91</td>\n",
       "      <td>16</td>\n",
       "      <td>0.00</td>\n",
       "      <td>0</td>\n",
       "      <td>13.7</td>\n",
       "      <td>0.9</td>\n",
       "      <td>0</td>\n",
       "      <td>1</td>\n",
       "    </tr>\n",
       "    <tr>\n",
       "      <th>3</th>\n",
       "      <td>27</td>\n",
       "      <td>0</td>\n",
       "      <td>0</td>\n",
       "      <td>6.87</td>\n",
       "      <td>21</td>\n",
       "      <td>NaN</td>\n",
       "      <td>1</td>\n",
       "      <td>0.0</td>\n",
       "      <td>0.0</td>\n",
       "      <td>0</td>\n",
       "      <td>1</td>\n",
       "    </tr>\n",
       "    <tr>\n",
       "      <th>4</th>\n",
       "      <td>34</td>\n",
       "      <td>0</td>\n",
       "      <td>0</td>\n",
       "      <td>6.39</td>\n",
       "      <td>0</td>\n",
       "      <td>NaN</td>\n",
       "      <td>0</td>\n",
       "      <td>0.0</td>\n",
       "      <td>0.0</td>\n",
       "      <td>0</td>\n",
       "      <td>1</td>\n",
       "    </tr>\n",
       "  </tbody>\n",
       "</table>\n",
       "</div>"
      ],
      "text/plain": [
       "   id  is_tv_subscriber  is_movie_package_subscriber  subscription_age  \\\n",
       "0  15                 1                            0             11.95   \n",
       "1  18                 0                            0              8.22   \n",
       "2  23                 1                            0              8.91   \n",
       "3  27                 0                            0              6.87   \n",
       "4  34                 0                            0              6.39   \n",
       "\n",
       "   bill_avg  reamining_contract  service_failure_count  download_avg  \\\n",
       "0        25                0.14                      0           8.4   \n",
       "1         0                 NaN                      0           0.0   \n",
       "2        16                0.00                      0          13.7   \n",
       "3        21                 NaN                      1           0.0   \n",
       "4         0                 NaN                      0           0.0   \n",
       "\n",
       "   upload_avg  download_over_limit  churn  \n",
       "0         2.3                    0      0  \n",
       "1         0.0                    0      1  \n",
       "2         0.9                    0      1  \n",
       "3         0.0                    0      1  \n",
       "4         0.0                    0      1  "
      ]
     },
     "execution_count": 9,
     "metadata": {},
     "output_type": "execute_result"
    },
    {
     "name": "stdout",
     "output_type": "stream",
     "text": [
      "<class 'pandas.core.frame.DataFrame'>\n",
      "RangeIndex: 72274 entries, 0 to 72273\n",
      "Data columns (total 11 columns):\n",
      " #   Column                       Non-Null Count  Dtype  \n",
      "---  ------                       --------------  -----  \n",
      " 0   id                           72274 non-null  int64  \n",
      " 1   is_tv_subscriber             72274 non-null  int64  \n",
      " 2   is_movie_package_subscriber  72274 non-null  int64  \n",
      " 3   subscription_age             72274 non-null  float64\n",
      " 4   bill_avg                     72274 non-null  int64  \n",
      " 5   reamining_contract           50702 non-null  float64\n",
      " 6   service_failure_count        72274 non-null  int64  \n",
      " 7   download_avg                 71893 non-null  float64\n",
      " 8   upload_avg                   71893 non-null  float64\n",
      " 9   download_over_limit          72274 non-null  int64  \n",
      " 10  churn                        72274 non-null  int64  \n",
      "dtypes: float64(4), int64(7)\n",
      "memory usage: 6.1 MB\n"
     ]
    }
   ],
   "source": [
    "train_df.shape\n",
    "train_df.head(5)\n",
    "train_df.info()"
   ]
  },
  {
   "cell_type": "markdown",
   "id": "ff96cfd2",
   "metadata": {},
   "source": [
    "- A total of 72274 sample data, excluding the tag and ID columns which a total of 10 fetures."
   ]
  },
  {
   "cell_type": "markdown",
   "id": "eb3f6dbc",
   "metadata": {},
   "source": [
    "## Null Values"
   ]
  },
  {
   "cell_type": "code",
   "execution_count": 10,
   "id": "c70c351c",
   "metadata": {},
   "outputs": [
    {
     "data": {
      "text/plain": [
       "id                                 0\n",
       "is_tv_subscriber                   0\n",
       "is_movie_package_subscriber        0\n",
       "subscription_age                   0\n",
       "bill_avg                           0\n",
       "reamining_contract             21572\n",
       "service_failure_count              0\n",
       "download_avg                     381\n",
       "upload_avg                       381\n",
       "download_over_limit                0\n",
       "churn                              0\n",
       "dtype: int64"
      ]
     },
     "execution_count": 10,
     "metadata": {},
     "output_type": "execute_result"
    },
    {
     "data": {
      "text/plain": [
       "id                             72274\n",
       "is_tv_subscriber                   2\n",
       "is_movie_package_subscriber        2\n",
       "subscription_age                1110\n",
       "bill_avg                         179\n",
       "reamining_contract               247\n",
       "service_failure_count             19\n",
       "download_avg                    2856\n",
       "upload_avg                       802\n",
       "download_over_limit                8\n",
       "churn                              2\n",
       "dtype: int64"
      ]
     },
     "execution_count": 10,
     "metadata": {},
     "output_type": "execute_result"
    },
    {
     "data": {
      "text/plain": [
       "upload_avg                     14.620348\n",
       "download_avg                   14.580942\n",
       "bill_avg                        7.358908\n",
       "service_failure_count           5.592502\n",
       "download_over_limit             5.269831\n",
       "subscription_age                1.295647\n",
       "is_movie_package_subscriber     0.700945\n",
       "reamining_contract              0.401173\n",
       "id                             -0.004863\n",
       "churn                          -0.217850\n",
       "is_tv_subscriber               -1.624711\n",
       "dtype: float64"
      ]
     },
     "execution_count": 10,
     "metadata": {},
     "output_type": "execute_result"
    }
   ],
   "source": [
    "train_df.isnull().sum()\n",
    "train_df.nunique()\n",
    "train_df.skew().sort_values(ascending=False)"
   ]
  },
  {
   "cell_type": "markdown",
   "id": "3f9325c7",
   "metadata": {},
   "source": [
    "- reamining_contract has 21572 missing values which means the customers never opted for contract. The blank values can be filled with 0.\n",
    "\n",
    "- download_avg and upload_avg has 381 missing values which can be dropped for better results."
   ]
  },
  {
   "cell_type": "code",
   "execution_count": 11,
   "id": "c1703f0b",
   "metadata": {},
   "outputs": [
    {
     "data": {
      "text/html": [
       "<div>\n",
       "<style scoped>\n",
       "    .dataframe tbody tr th:only-of-type {\n",
       "        vertical-align: middle;\n",
       "    }\n",
       "\n",
       "    .dataframe tbody tr th {\n",
       "        vertical-align: top;\n",
       "    }\n",
       "\n",
       "    .dataframe thead th {\n",
       "        text-align: right;\n",
       "    }\n",
       "</style>\n",
       "<table border=\"1\" class=\"dataframe\">\n",
       "  <thead>\n",
       "    <tr style=\"text-align: right;\">\n",
       "      <th></th>\n",
       "      <th>id</th>\n",
       "      <th>is_tv_subscriber</th>\n",
       "      <th>is_movie_package_subscriber</th>\n",
       "      <th>subscription_age</th>\n",
       "      <th>bill_avg</th>\n",
       "      <th>reamining_contract</th>\n",
       "      <th>service_failure_count</th>\n",
       "      <th>download_avg</th>\n",
       "      <th>upload_avg</th>\n",
       "      <th>download_over_limit</th>\n",
       "      <th>churn</th>\n",
       "    </tr>\n",
       "  </thead>\n",
       "  <tbody>\n",
       "    <tr>\n",
       "      <th>0</th>\n",
       "      <td>15</td>\n",
       "      <td>1</td>\n",
       "      <td>0</td>\n",
       "      <td>11.95</td>\n",
       "      <td>25</td>\n",
       "      <td>0.14</td>\n",
       "      <td>0</td>\n",
       "      <td>8.4</td>\n",
       "      <td>2.3</td>\n",
       "      <td>0</td>\n",
       "      <td>0</td>\n",
       "    </tr>\n",
       "    <tr>\n",
       "      <th>1</th>\n",
       "      <td>18</td>\n",
       "      <td>0</td>\n",
       "      <td>0</td>\n",
       "      <td>8.22</td>\n",
       "      <td>0</td>\n",
       "      <td>0.00</td>\n",
       "      <td>0</td>\n",
       "      <td>0.0</td>\n",
       "      <td>0.0</td>\n",
       "      <td>0</td>\n",
       "      <td>1</td>\n",
       "    </tr>\n",
       "    <tr>\n",
       "      <th>2</th>\n",
       "      <td>23</td>\n",
       "      <td>1</td>\n",
       "      <td>0</td>\n",
       "      <td>8.91</td>\n",
       "      <td>16</td>\n",
       "      <td>0.00</td>\n",
       "      <td>0</td>\n",
       "      <td>13.7</td>\n",
       "      <td>0.9</td>\n",
       "      <td>0</td>\n",
       "      <td>1</td>\n",
       "    </tr>\n",
       "    <tr>\n",
       "      <th>3</th>\n",
       "      <td>27</td>\n",
       "      <td>0</td>\n",
       "      <td>0</td>\n",
       "      <td>6.87</td>\n",
       "      <td>21</td>\n",
       "      <td>0.00</td>\n",
       "      <td>1</td>\n",
       "      <td>0.0</td>\n",
       "      <td>0.0</td>\n",
       "      <td>0</td>\n",
       "      <td>1</td>\n",
       "    </tr>\n",
       "    <tr>\n",
       "      <th>4</th>\n",
       "      <td>34</td>\n",
       "      <td>0</td>\n",
       "      <td>0</td>\n",
       "      <td>6.39</td>\n",
       "      <td>0</td>\n",
       "      <td>0.00</td>\n",
       "      <td>0</td>\n",
       "      <td>0.0</td>\n",
       "      <td>0.0</td>\n",
       "      <td>0</td>\n",
       "      <td>1</td>\n",
       "    </tr>\n",
       "  </tbody>\n",
       "</table>\n",
       "</div>"
      ],
      "text/plain": [
       "   id  is_tv_subscriber  is_movie_package_subscriber  subscription_age  \\\n",
       "0  15                 1                            0             11.95   \n",
       "1  18                 0                            0              8.22   \n",
       "2  23                 1                            0              8.91   \n",
       "3  27                 0                            0              6.87   \n",
       "4  34                 0                            0              6.39   \n",
       "\n",
       "   bill_avg  reamining_contract  service_failure_count  download_avg  \\\n",
       "0        25                0.14                      0           8.4   \n",
       "1         0                0.00                      0           0.0   \n",
       "2        16                0.00                      0          13.7   \n",
       "3        21                0.00                      1           0.0   \n",
       "4         0                0.00                      0           0.0   \n",
       "\n",
       "   upload_avg  download_over_limit  churn  \n",
       "0         2.3                    0      0  \n",
       "1         0.0                    0      1  \n",
       "2         0.9                    0      1  \n",
       "3         0.0                    0      1  \n",
       "4         0.0                    0      1  "
      ]
     },
     "execution_count": 11,
     "metadata": {},
     "output_type": "execute_result"
    }
   ],
   "source": [
    "# Data Cleaning\n",
    "train_df = train_df.fillna(0)\n",
    "train_df = train_df.drop_duplicates()\n",
    "\n",
    "train_df.head(5)"
   ]
  },
  {
   "cell_type": "markdown",
   "id": "373e5ab9",
   "metadata": {},
   "source": [
    "## Exploratory Data Analysis"
   ]
  },
  {
   "cell_type": "code",
   "execution_count": 12,
   "id": "87d961b2",
   "metadata": {},
   "outputs": [],
   "source": [
    "# distinguish category variables and numerical variables\n",
    "col_cate = [\"is_tv_subscriber\",\"is_movie_package_subscriber\",\"service_failure_count\",\"download_over_limit\",\"churn\"]\n",
    "col_num = [\"subscription_age\",\"bill_avg\",\"reamining_contract\",\"download_avg\",\"upload_avg\"]"
   ]
  },
  {
   "cell_type": "code",
   "execution_count": 13,
   "id": "ed27d345",
   "metadata": {},
   "outputs": [
    {
     "name": "stdout",
     "output_type": "stream",
     "text": [
      "is_tv_subscriber , Frequency of each feature：\n",
      " 1    58922\n",
      "0    13352\n",
      "Name: is_tv_subscriber, dtype: int64\n"
     ]
    },
    {
     "data": {
      "text/plain": [
       "<Figure size 720x288 with 0 Axes>"
      ]
     },
     "execution_count": 13,
     "metadata": {},
     "output_type": "execute_result"
    },
    {
     "data": {
      "text/plain": [
       "<AxesSubplot:xlabel='is_tv_subscriber', ylabel='count'>"
      ]
     },
     "execution_count": 13,
     "metadata": {},
     "output_type": "execute_result"
    },
    {
     "data": {
      "image/png": "[encoded data removed]",
      "text/plain": [
       "<Figure size 720x288 with 1 Axes>"
      ]
     },
     "metadata": {
      "needs_background": "light"
     },
     "output_type": "display_data"
    },
    {
     "name": "stdout",
     "output_type": "stream",
     "text": [
      "---------------------------------------------------------------------- \n",
      "\n",
      "is_movie_package_subscriber , Frequency of each feature：\n",
      " 0    48089\n",
      "1    24185\n",
      "Name: is_movie_package_subscriber, dtype: int64\n"
     ]
    },
    {
     "data": {
      "text/plain": [
       "<Figure size 720x288 with 0 Axes>"
      ]
     },
     "execution_count": 13,
     "metadata": {},
     "output_type": "execute_result"
    },
    {
     "data": {
      "text/plain": [
       "<AxesSubplot:xlabel='is_movie_package_subscriber', ylabel='count'>"
      ]
     },
     "execution_count": 13,
     "metadata": {},
     "output_type": "execute_result"
    },
    {
     "data": {
      "image/png": "[encoded data removed]",
      "text/plain": [
       "<Figure size 720x288 with 1 Axes>"
      ]
     },
     "metadata": {
      "needs_background": "light"
     },
     "output_type": "display_data"
    },
    {
     "name": "stdout",
     "output_type": "stream",
     "text": [
      "---------------------------------------------------------------------- \n",
      "\n",
      "service_failure_count , Frequency of each feature：\n",
      " 0     60407\n",
      "1      7665\n",
      "2      2453\n",
      "3       901\n",
      "4       395\n",
      "5       201\n",
      "6        97\n",
      "7        58\n",
      "8        37\n",
      "9        17\n",
      "10       15\n",
      "11        6\n",
      "12        6\n",
      "13        5\n",
      "14        4\n",
      "16        3\n",
      "15        2\n",
      "19        1\n",
      "18        1\n",
      "Name: service_failure_count, dtype: int64\n"
     ]
    },
    {
     "data": {
      "text/plain": [
       "<Figure size 720x288 with 0 Axes>"
      ]
     },
     "execution_count": 13,
     "metadata": {},
     "output_type": "execute_result"
    },
    {
     "data": {
      "text/plain": [
       "<AxesSubplot:xlabel='service_failure_count', ylabel='count'>"
      ]
     },
     "execution_count": 13,
     "metadata": {},
     "output_type": "execute_result"
    },
    {
     "data": {
      "image/png": "[encoded data removed]",
      "text/plain": [
       "<Figure size 720x288 with 1 Axes>"
      ]
     },
     "metadata": {
      "needs_background": "light"
     },
     "output_type": "display_data"
    },
    {
     "name": "stdout",
     "output_type": "stream",
     "text": [
      "---------------------------------------------------------------------- \n",
      "\n",
      "download_over_limit , Frequency of each feature：\n",
      " 0    68373\n",
      "1      766\n",
      "6      688\n",
      "2      560\n",
      "7      504\n",
      "3      498\n",
      "4      456\n",
      "5      429\n",
      "Name: download_over_limit, dtype: int64\n"
     ]
    },
    {
     "data": {
      "text/plain": [
       "<Figure size 720x288 with 0 Axes>"
      ]
     },
     "execution_count": 13,
     "metadata": {},
     "output_type": "execute_result"
    },
    {
     "data": {
      "text/plain": [
       "<AxesSubplot:xlabel='download_over_limit', ylabel='count'>"
      ]
     },
     "execution_count": 13,
     "metadata": {},
     "output_type": "execute_result"
    },
    {
     "data": {
      "image/png": "[encoded data removed]",
      "text/plain": [
       "<Figure size 720x288 with 1 Axes>"
      ]
     },
     "metadata": {
      "needs_background": "light"
     },
     "output_type": "display_data"
    },
    {
     "name": "stdout",
     "output_type": "stream",
     "text": [
      "---------------------------------------------------------------------- \n",
      "\n",
      "churn , Frequency of each feature：\n",
      " 1    40050\n",
      "0    32224\n",
      "Name: churn, dtype: int64\n"
     ]
    },
    {
     "data": {
      "text/plain": [
       "<Figure size 720x288 with 0 Axes>"
      ]
     },
     "execution_count": 13,
     "metadata": {},
     "output_type": "execute_result"
    },
    {
     "data": {
      "text/plain": [
       "<AxesSubplot:xlabel='churn', ylabel='count'>"
      ]
     },
     "execution_count": 13,
     "metadata": {},
     "output_type": "execute_result"
    },
    {
     "data": {
      "image/png": "[encoded data removed]",
      "text/plain": [
       "<Figure size 720x288 with 1 Axes>"
      ]
     },
     "metadata": {
      "needs_background": "light"
     },
     "output_type": "display_data"
    },
    {
     "name": "stdout",
     "output_type": "stream",
     "text": [
      "---------------------------------------------------------------------- \n",
      "\n"
     ]
    }
   ],
   "source": [
    "# Exploratory Data Analysis (EDA) for col_cate\n",
    "for i in col_cate:\n",
    "    print(i, \", Frequency of each feature：\\n\", train_df[i].value_counts())\n",
    "    plt.figure(figsize=(10,4)) \n",
    "    sns.countplot(x=i, data=train_df)\n",
    "    plt.show()\n",
    "    print(\"--\" * 35, \"\\n\")"
   ]
  },
  {
   "cell_type": "code",
   "execution_count": 14,
   "id": "776fff21",
   "metadata": {
    "scrolled": true
   },
   "outputs": [
    {
     "data": {
      "text/plain": [
       "array([[<AxesSubplot:title={'center':'subscription_age'}>,\n",
       "        <AxesSubplot:title={'center':'bill_avg'}>],\n",
       "       [<AxesSubplot:title={'center':'reamining_contract'}>,\n",
       "        <AxesSubplot:title={'center':'download_avg'}>],\n",
       "       [<AxesSubplot:title={'center':'upload_avg'}>, <AxesSubplot:>]],\n",
       "      dtype=object)"
      ]
     },
     "execution_count": 14,
     "metadata": {},
     "output_type": "execute_result"
    },
    {
     "data": {
      "image/png": "[encoded data removed]",
      "text/plain": [
       "<Figure size 1080x720 with 6 Axes>"
      ]
     },
     "metadata": {
      "needs_background": "light"
     },
     "output_type": "display_data"
    }
   ],
   "source": [
    "train_df[col_num].hist(bins=20, figsize=(15,10))"
   ]
  },
  {
   "cell_type": "code",
   "execution_count": 15,
   "id": "b6a2a628",
   "metadata": {
    "scrolled": true
   },
   "outputs": [
    {
     "data": {
      "text/html": [
       "<div>\n",
       "<style scoped>\n",
       "    .dataframe tbody tr th:only-of-type {\n",
       "        vertical-align: middle;\n",
       "    }\n",
       "\n",
       "    .dataframe tbody tr th {\n",
       "        vertical-align: top;\n",
       "    }\n",
       "\n",
       "    .dataframe thead th {\n",
       "        text-align: right;\n",
       "    }\n",
       "</style>\n",
       "<table border=\"1\" class=\"dataframe\">\n",
       "  <thead>\n",
       "    <tr style=\"text-align: right;\">\n",
       "      <th></th>\n",
       "      <th>id</th>\n",
       "      <th>is_tv_subscriber</th>\n",
       "      <th>is_movie_package_subscriber</th>\n",
       "      <th>subscription_age</th>\n",
       "      <th>bill_avg</th>\n",
       "      <th>reamining_contract</th>\n",
       "      <th>service_failure_count</th>\n",
       "      <th>download_avg</th>\n",
       "      <th>upload_avg</th>\n",
       "      <th>download_over_limit</th>\n",
       "      <th>churn</th>\n",
       "    </tr>\n",
       "  </thead>\n",
       "  <tbody>\n",
       "    <tr>\n",
       "      <th>count</th>\n",
       "      <td>7.227400e+04</td>\n",
       "      <td>72274.000000</td>\n",
       "      <td>72274.000000</td>\n",
       "      <td>72274.000000</td>\n",
       "      <td>72274.000000</td>\n",
       "      <td>72274.000000</td>\n",
       "      <td>72274.000000</td>\n",
       "      <td>72274.000000</td>\n",
       "      <td>72274.000000</td>\n",
       "      <td>72274.000000</td>\n",
       "      <td>72274.000000</td>\n",
       "    </tr>\n",
       "    <tr>\n",
       "      <th>mean</th>\n",
       "      <td>8.463182e+05</td>\n",
       "      <td>0.815259</td>\n",
       "      <td>0.334629</td>\n",
       "      <td>2.450051</td>\n",
       "      <td>18.942483</td>\n",
       "      <td>0.502319</td>\n",
       "      <td>0.274234</td>\n",
       "      <td>43.459595</td>\n",
       "      <td>4.169977</td>\n",
       "      <td>0.207613</td>\n",
       "      <td>0.554141</td>\n",
       "    </tr>\n",
       "    <tr>\n",
       "      <th>std</th>\n",
       "      <td>4.891022e+05</td>\n",
       "      <td>0.388090</td>\n",
       "      <td>0.471864</td>\n",
       "      <td>2.034990</td>\n",
       "      <td>13.215386</td>\n",
       "      <td>0.669524</td>\n",
       "      <td>0.816621</td>\n",
       "      <td>63.317706</td>\n",
       "      <td>9.797685</td>\n",
       "      <td>0.997123</td>\n",
       "      <td>0.497064</td>\n",
       "    </tr>\n",
       "    <tr>\n",
       "      <th>min</th>\n",
       "      <td>1.500000e+01</td>\n",
       "      <td>0.000000</td>\n",
       "      <td>0.000000</td>\n",
       "      <td>-0.020000</td>\n",
       "      <td>0.000000</td>\n",
       "      <td>0.000000</td>\n",
       "      <td>0.000000</td>\n",
       "      <td>0.000000</td>\n",
       "      <td>0.000000</td>\n",
       "      <td>0.000000</td>\n",
       "      <td>0.000000</td>\n",
       "    </tr>\n",
       "    <tr>\n",
       "      <th>25%</th>\n",
       "      <td>4.222165e+05</td>\n",
       "      <td>1.000000</td>\n",
       "      <td>0.000000</td>\n",
       "      <td>0.930000</td>\n",
       "      <td>13.000000</td>\n",
       "      <td>0.000000</td>\n",
       "      <td>0.000000</td>\n",
       "      <td>6.400000</td>\n",
       "      <td>0.500000</td>\n",
       "      <td>0.000000</td>\n",
       "      <td>0.000000</td>\n",
       "    </tr>\n",
       "    <tr>\n",
       "      <th>50%</th>\n",
       "      <td>8.477840e+05</td>\n",
       "      <td>1.000000</td>\n",
       "      <td>0.000000</td>\n",
       "      <td>1.980000</td>\n",
       "      <td>19.000000</td>\n",
       "      <td>0.000000</td>\n",
       "      <td>0.000000</td>\n",
       "      <td>27.500000</td>\n",
       "      <td>2.100000</td>\n",
       "      <td>0.000000</td>\n",
       "      <td>1.000000</td>\n",
       "    </tr>\n",
       "    <tr>\n",
       "      <th>75%</th>\n",
       "      <td>1.269562e+06</td>\n",
       "      <td>1.000000</td>\n",
       "      <td>1.000000</td>\n",
       "      <td>3.300000</td>\n",
       "      <td>22.000000</td>\n",
       "      <td>1.040000</td>\n",
       "      <td>0.000000</td>\n",
       "      <td>60.200000</td>\n",
       "      <td>4.800000</td>\n",
       "      <td>0.000000</td>\n",
       "      <td>1.000000</td>\n",
       "    </tr>\n",
       "    <tr>\n",
       "      <th>max</th>\n",
       "      <td>1.689744e+06</td>\n",
       "      <td>1.000000</td>\n",
       "      <td>1.000000</td>\n",
       "      <td>12.800000</td>\n",
       "      <td>406.000000</td>\n",
       "      <td>2.920000</td>\n",
       "      <td>19.000000</td>\n",
       "      <td>4415.200000</td>\n",
       "      <td>453.300000</td>\n",
       "      <td>7.000000</td>\n",
       "      <td>1.000000</td>\n",
       "    </tr>\n",
       "  </tbody>\n",
       "</table>\n",
       "</div>"
      ],
      "text/plain": [
       "                 id  is_tv_subscriber  is_movie_package_subscriber  \\\n",
       "count  7.227400e+04      72274.000000                 72274.000000   \n",
       "mean   8.463182e+05          0.815259                     0.334629   \n",
       "std    4.891022e+05          0.388090                     0.471864   \n",
       "min    1.500000e+01          0.000000                     0.000000   \n",
       "25%    4.222165e+05          1.000000                     0.000000   \n",
       "50%    8.477840e+05          1.000000                     0.000000   \n",
       "75%    1.269562e+06          1.000000                     1.000000   \n",
       "max    1.689744e+06          1.000000                     1.000000   \n",
       "\n",
       "       subscription_age      bill_avg  reamining_contract  \\\n",
       "count      72274.000000  72274.000000        72274.000000   \n",
       "mean           2.450051     18.942483            0.502319   \n",
       "std            2.034990     13.215386            0.669524   \n",
       "min           -0.020000      0.000000            0.000000   \n",
       "25%            0.930000     13.000000            0.000000   \n",
       "50%            1.980000     19.000000            0.000000   \n",
       "75%            3.300000     22.000000            1.040000   \n",
       "max           12.800000    406.000000            2.920000   \n",
       "\n",
       "       service_failure_count  download_avg    upload_avg  download_over_limit  \\\n",
       "count           72274.000000  72274.000000  72274.000000         72274.000000   \n",
       "mean                0.274234     43.459595      4.169977             0.207613   \n",
       "std                 0.816621     63.317706      9.797685             0.997123   \n",
       "min                 0.000000      0.000000      0.000000             0.000000   \n",
       "25%                 0.000000      6.400000      0.500000             0.000000   \n",
       "50%                 0.000000     27.500000      2.100000             0.000000   \n",
       "75%                 0.000000     60.200000      4.800000             0.000000   \n",
       "max                19.000000   4415.200000    453.300000             7.000000   \n",
       "\n",
       "              churn  \n",
       "count  72274.000000  \n",
       "mean       0.554141  \n",
       "std        0.497064  \n",
       "min        0.000000  \n",
       "25%        0.000000  \n",
       "50%        1.000000  \n",
       "75%        1.000000  \n",
       "max        1.000000  "
      ]
     },
     "execution_count": 15,
     "metadata": {},
     "output_type": "execute_result"
    }
   ],
   "source": [
    "train_df.describe()"
   ]
  },
  {
   "cell_type": "code",
   "execution_count": 16,
   "id": "7a4db713",
   "metadata": {},
   "outputs": [
    {
     "data": {
      "text/plain": [
       "<Figure size 1440x576 with 0 Axes>"
      ]
     },
     "execution_count": 16,
     "metadata": {},
     "output_type": "execute_result"
    },
    {
     "data": {
      "text/plain": [
       "<AxesSubplot:>"
      ]
     },
     "execution_count": 16,
     "metadata": {},
     "output_type": "execute_result"
    },
    {
     "data": {
      "image/png": "[encoded data removed]",
      "text/plain": [
       "<Figure size 1440x576 with 2 Axes>"
      ]
     },
     "metadata": {
      "needs_background": "light"
     },
     "output_type": "display_data"
    }
   ],
   "source": [
    "# heatmap to find correlation\n",
    "corr = train_df.corr()\n",
    "plt.figure(figsize=(20,8))\n",
    "sns.heatmap(data=corr,xticklabels=corr.columns,\n",
    "            yticklabels=corr.columns,annot=True,cmap=\"coolwarm\")"
   ]
  },
  {
   "cell_type": "markdown",
   "id": "479f3504",
   "metadata": {},
   "source": [
    "## K-NN predict churn\n"
   ]
  },
  {
   "cell_type": "code",
   "execution_count": 17,
   "id": "e0bbb3b1",
   "metadata": {},
   "outputs": [],
   "source": [
    "X = train_df[['is_tv_subscriber', 'is_movie_package_subscriber', 'subscription_age', 'bill_avg', 'reamining_contract', 'service_failure_count', 'download_avg', 'upload_avg', 'download_over_limit']]\n",
    "y = train_df[['churn']]"
   ]
  },
  {
   "cell_type": "code",
   "execution_count": 18,
   "id": "e0f484c8",
   "metadata": {},
   "outputs": [],
   "source": [
    "from sklearn.preprocessing import scale\n",
    "X_scale = scale(X)\n",
    "y = y.values"
   ]
  },
  {
   "cell_type": "code",
   "execution_count": 19,
   "id": "f6fe8008",
   "metadata": {},
   "outputs": [],
   "source": [
    "# Splitting the data into training and testing data in 70-30 randomly \n",
    "X_train,X_test,y_train,y_test = train_test_split(X_scale,y,test_size=0.3,random_state=888)"
   ]
  },
  {
   "cell_type": "code",
   "execution_count": 20,
   "id": "d6db8584",
   "metadata": {},
   "outputs": [
    {
     "data": {
      "text/plain": [
       "KNeighborsClassifier()"
      ]
     },
     "execution_count": 20,
     "metadata": {},
     "output_type": "execute_result"
    }
   ],
   "source": [
    "from sklearn.neighbors import KNeighborsClassifier\n",
    "model_KNN = KNeighborsClassifier()\n",
    "model_KNN.fit(X_train,y_train)\n",
    "pre_KNN = model_KNN.predict(X_test)"
   ]
  },
  {
   "cell_type": "code",
   "execution_count": 21,
   "id": "22dd79f3",
   "metadata": {},
   "outputs": [
    {
     "data": {
      "text/html": [
       "<div>\n",
       "<style scoped>\n",
       "    .dataframe tbody tr th:only-of-type {\n",
       "        vertical-align: middle;\n",
       "    }\n",
       "\n",
       "    .dataframe tbody tr th {\n",
       "        vertical-align: top;\n",
       "    }\n",
       "\n",
       "    .dataframe thead th {\n",
       "        text-align: right;\n",
       "    }\n",
       "</style>\n",
       "<table border=\"1\" class=\"dataframe\">\n",
       "  <thead>\n",
       "    <tr style=\"text-align: right;\">\n",
       "      <th></th>\n",
       "      <th>predict_churn</th>\n",
       "    </tr>\n",
       "  </thead>\n",
       "  <tbody>\n",
       "    <tr>\n",
       "      <th>0</th>\n",
       "      <td>0</td>\n",
       "    </tr>\n",
       "    <tr>\n",
       "      <th>1</th>\n",
       "      <td>1</td>\n",
       "    </tr>\n",
       "    <tr>\n",
       "      <th>2</th>\n",
       "      <td>1</td>\n",
       "    </tr>\n",
       "    <tr>\n",
       "      <th>3</th>\n",
       "      <td>0</td>\n",
       "    </tr>\n",
       "    <tr>\n",
       "      <th>4</th>\n",
       "      <td>1</td>\n",
       "    </tr>\n",
       "  </tbody>\n",
       "</table>\n",
       "</div>"
      ],
      "text/plain": [
       "   predict_churn\n",
       "0              0\n",
       "1              1\n",
       "2              1\n",
       "3              0\n",
       "4              1"
      ]
     },
     "execution_count": 21,
     "metadata": {},
     "output_type": "execute_result"
    },
    {
     "data": {
      "text/html": [
       "<div>\n",
       "<style scoped>\n",
       "    .dataframe tbody tr th:only-of-type {\n",
       "        vertical-align: middle;\n",
       "    }\n",
       "\n",
       "    .dataframe tbody tr th {\n",
       "        vertical-align: top;\n",
       "    }\n",
       "\n",
       "    .dataframe thead th {\n",
       "        text-align: right;\n",
       "    }\n",
       "</style>\n",
       "<table border=\"1\" class=\"dataframe\">\n",
       "  <thead>\n",
       "    <tr style=\"text-align: right;\">\n",
       "      <th></th>\n",
       "      <th>number</th>\n",
       "    </tr>\n",
       "    <tr>\n",
       "      <th>predict_churn</th>\n",
       "      <th></th>\n",
       "    </tr>\n",
       "  </thead>\n",
       "  <tbody>\n",
       "    <tr>\n",
       "      <th>1</th>\n",
       "      <td>11901</td>\n",
       "    </tr>\n",
       "    <tr>\n",
       "      <th>0</th>\n",
       "      <td>9782</td>\n",
       "    </tr>\n",
       "  </tbody>\n",
       "</table>\n",
       "</div>"
      ],
      "text/plain": [
       "               number\n",
       "predict_churn        \n",
       "1               11901\n",
       "0                9782"
      ]
     },
     "execution_count": 21,
     "metadata": {},
     "output_type": "execute_result"
    },
    {
     "data": {
      "text/plain": [
       "array([[<AxesSubplot:title={'center':'predict_churn'}>]], dtype=object)"
      ]
     },
     "execution_count": 21,
     "metadata": {},
     "output_type": "execute_result"
    },
    {
     "data": {
      "image/png": "[encoded data removed]",
      "text/plain": [
       "<Figure size 432x288 with 1 Axes>"
      ]
     },
     "metadata": {
      "needs_background": "light"
     },
     "output_type": "display_data"
    }
   ],
   "source": [
    "pre_KNN=pd.DataFrame(pre_KNN,columns=[\"predict_churn\"]) \n",
    "pre_KNN.head() \n",
    "pd.DataFrame(pre_KNN.value_counts(),columns=[\"number\"]) \n",
    "pre_KNN.hist() "
   ]
  },
  {
   "cell_type": "code",
   "execution_count": 22,
   "id": "a8d3fddc",
   "metadata": {},
   "outputs": [
    {
     "name": "stdout",
     "output_type": "stream",
     "text": [
      "0.9060093160540516\n"
     ]
    }
   ],
   "source": [
    "# K-NN Accuracy \n",
    "from sklearn.metrics import accuracy_score\n",
    "print(accuracy_score(y_test,pre_KNN))"
   ]
  },
  {
   "cell_type": "markdown",
   "id": "12bd8200",
   "metadata": {},
   "source": [
    "## Churn & Non-churn\n",
    "- churn equal to 0, the number is 32224\n",
    "\n",
    "- churn equal to 1, the number is 40050"
   ]
  },
  {
   "cell_type": "code",
   "execution_count": 23,
   "id": "81bd01d2",
   "metadata": {},
   "outputs": [
    {
     "data": {
      "text/html": [
       "<div>\n",
       "<style scoped>\n",
       "    .dataframe tbody tr th:only-of-type {\n",
       "        vertical-align: middle;\n",
       "    }\n",
       "\n",
       "    .dataframe tbody tr th {\n",
       "        vertical-align: top;\n",
       "    }\n",
       "\n",
       "    .dataframe thead th {\n",
       "        text-align: right;\n",
       "    }\n",
       "</style>\n",
       "<table border=\"1\" class=\"dataframe\">\n",
       "  <thead>\n",
       "    <tr style=\"text-align: right;\">\n",
       "      <th></th>\n",
       "      <th>number</th>\n",
       "      <th>bill_avg</th>\n",
       "      <th>download_avg</th>\n",
       "      <th>download_over_limit</th>\n",
       "      <th>is_movie_package_subscriber</th>\n",
       "      <th>is_tv_subscriber</th>\n",
       "      <th>reamining_contract</th>\n",
       "      <th>service_failure_count</th>\n",
       "      <th>subscription_age</th>\n",
       "      <th>upload_avg</th>\n",
       "    </tr>\n",
       "    <tr>\n",
       "      <th>churn</th>\n",
       "      <th></th>\n",
       "      <th></th>\n",
       "      <th></th>\n",
       "      <th></th>\n",
       "      <th></th>\n",
       "      <th></th>\n",
       "      <th></th>\n",
       "      <th></th>\n",
       "      <th></th>\n",
       "      <th></th>\n",
       "    </tr>\n",
       "  </thead>\n",
       "  <tbody>\n",
       "    <tr>\n",
       "      <th>0</th>\n",
       "      <td>32224</td>\n",
       "      <td>19.252731</td>\n",
       "      <td>64.117565</td>\n",
       "      <td>0.031622</td>\n",
       "      <td>0.496214</td>\n",
       "      <td>0.956989</td>\n",
       "      <td>1.011077</td>\n",
       "      <td>0.254593</td>\n",
       "      <td>2.727828</td>\n",
       "      <td>5.912817</td>\n",
       "    </tr>\n",
       "    <tr>\n",
       "      <th>1</th>\n",
       "      <td>40050</td>\n",
       "      <td>18.692859</td>\n",
       "      <td>26.838312</td>\n",
       "      <td>0.349213</td>\n",
       "      <td>0.204619</td>\n",
       "      <td>0.701223</td>\n",
       "      <td>0.092976</td>\n",
       "      <td>0.290037</td>\n",
       "      <td>2.226554</td>\n",
       "      <td>2.767698</td>\n",
       "    </tr>\n",
       "  </tbody>\n",
       "</table>\n",
       "</div>"
      ],
      "text/plain": [
       "       number   bill_avg  download_avg  download_over_limit  \\\n",
       "churn                                                         \n",
       "0       32224  19.252731     64.117565             0.031622   \n",
       "1       40050  18.692859     26.838312             0.349213   \n",
       "\n",
       "       is_movie_package_subscriber  is_tv_subscriber  reamining_contract  \\\n",
       "churn                                                                      \n",
       "0                         0.496214          0.956989            1.011077   \n",
       "1                         0.204619          0.701223            0.092976   \n",
       "\n",
       "       service_failure_count  subscription_age  upload_avg  \n",
       "churn                                                       \n",
       "0                   0.254593          2.727828    5.912817  \n",
       "1                   0.290037          2.226554    2.767698  "
      ]
     },
     "execution_count": 23,
     "metadata": {},
     "output_type": "execute_result"
    }
   ],
   "source": [
    "con = pd.concat([pd.pivot_table(train_df,index=[\"churn\"],values=[\"id\"],aggfunc=\"count\"),\n",
    "                 pd.pivot_table(train_df,index=[\"churn\"],aggfunc=\"mean\").drop([\"id\"],axis=1)],axis=1)\n",
    "con.rename(columns={\"id\" : \"number\"}) "
   ]
  },
  {
   "cell_type": "markdown",
   "id": "0f37350e",
   "metadata": {},
   "source": [
    "## K-Means"
   ]
  },
  {
   "cell_type": "code",
   "execution_count": 24,
   "id": "c9f87da9",
   "metadata": {},
   "outputs": [
    {
     "data": {
      "text/html": [
       "<div>\n",
       "<style scoped>\n",
       "    .dataframe tbody tr th:only-of-type {\n",
       "        vertical-align: middle;\n",
       "    }\n",
       "\n",
       "    .dataframe tbody tr th {\n",
       "        vertical-align: top;\n",
       "    }\n",
       "\n",
       "    .dataframe thead th {\n",
       "        text-align: right;\n",
       "    }\n",
       "</style>\n",
       "<table border=\"1\" class=\"dataframe\">\n",
       "  <thead>\n",
       "    <tr style=\"text-align: right;\">\n",
       "      <th></th>\n",
       "      <th>id</th>\n",
       "      <th>is_tv_subscriber</th>\n",
       "      <th>is_movie_package_subscriber</th>\n",
       "      <th>subscription_age</th>\n",
       "      <th>bill_avg</th>\n",
       "      <th>reamining_contract</th>\n",
       "      <th>service_failure_count</th>\n",
       "      <th>download_avg</th>\n",
       "      <th>upload_avg</th>\n",
       "      <th>download_over_limit</th>\n",
       "      <th>churn</th>\n",
       "    </tr>\n",
       "  </thead>\n",
       "  <tbody>\n",
       "    <tr>\n",
       "      <th>0</th>\n",
       "      <td>18</td>\n",
       "      <td>0</td>\n",
       "      <td>0</td>\n",
       "      <td>8.22</td>\n",
       "      <td>0</td>\n",
       "      <td>0.0</td>\n",
       "      <td>0</td>\n",
       "      <td>0.0</td>\n",
       "      <td>0.0</td>\n",
       "      <td>0</td>\n",
       "      <td>1</td>\n",
       "    </tr>\n",
       "    <tr>\n",
       "      <th>1</th>\n",
       "      <td>23</td>\n",
       "      <td>1</td>\n",
       "      <td>0</td>\n",
       "      <td>8.91</td>\n",
       "      <td>16</td>\n",
       "      <td>0.0</td>\n",
       "      <td>0</td>\n",
       "      <td>13.7</td>\n",
       "      <td>0.9</td>\n",
       "      <td>0</td>\n",
       "      <td>1</td>\n",
       "    </tr>\n",
       "    <tr>\n",
       "      <th>2</th>\n",
       "      <td>27</td>\n",
       "      <td>0</td>\n",
       "      <td>0</td>\n",
       "      <td>6.87</td>\n",
       "      <td>21</td>\n",
       "      <td>0.0</td>\n",
       "      <td>1</td>\n",
       "      <td>0.0</td>\n",
       "      <td>0.0</td>\n",
       "      <td>0</td>\n",
       "      <td>1</td>\n",
       "    </tr>\n",
       "    <tr>\n",
       "      <th>3</th>\n",
       "      <td>34</td>\n",
       "      <td>0</td>\n",
       "      <td>0</td>\n",
       "      <td>6.39</td>\n",
       "      <td>0</td>\n",
       "      <td>0.0</td>\n",
       "      <td>0</td>\n",
       "      <td>0.0</td>\n",
       "      <td>0.0</td>\n",
       "      <td>0</td>\n",
       "      <td>1</td>\n",
       "    </tr>\n",
       "    <tr>\n",
       "      <th>4</th>\n",
       "      <td>71</td>\n",
       "      <td>0</td>\n",
       "      <td>0</td>\n",
       "      <td>8.96</td>\n",
       "      <td>18</td>\n",
       "      <td>0.0</td>\n",
       "      <td>0</td>\n",
       "      <td>21.3</td>\n",
       "      <td>2.0</td>\n",
       "      <td>0</td>\n",
       "      <td>1</td>\n",
       "    </tr>\n",
       "  </tbody>\n",
       "</table>\n",
       "</div>"
      ],
      "text/plain": [
       "   id  is_tv_subscriber  is_movie_package_subscriber  subscription_age  \\\n",
       "0  18                 0                            0              8.22   \n",
       "1  23                 1                            0              8.91   \n",
       "2  27                 0                            0              6.87   \n",
       "3  34                 0                            0              6.39   \n",
       "4  71                 0                            0              8.96   \n",
       "\n",
       "   bill_avg  reamining_contract  service_failure_count  download_avg  \\\n",
       "0         0                 0.0                      0           0.0   \n",
       "1        16                 0.0                      0          13.7   \n",
       "2        21                 0.0                      1           0.0   \n",
       "3         0                 0.0                      0           0.0   \n",
       "4        18                 0.0                      0          21.3   \n",
       "\n",
       "   upload_avg  download_over_limit  churn  \n",
       "0         0.0                    0      1  \n",
       "1         0.9                    0      1  \n",
       "2         0.0                    0      1  \n",
       "3         0.0                    0      1  \n",
       "4         2.0                    0      1  "
      ]
     },
     "execution_count": 24,
     "metadata": {},
     "output_type": "execute_result"
    }
   ],
   "source": [
    "isChurn = train_df[train_df[\"churn\"]==1]\n",
    "isChurn = isChurn.reset_index(drop=True)\n",
    "isChurn.head(5)"
   ]
  },
  {
   "cell_type": "code",
   "execution_count": 25,
   "id": "c3b22fec",
   "metadata": {},
   "outputs": [
    {
     "data": {
      "text/html": [
       "<div>\n",
       "<style scoped>\n",
       "    .dataframe tbody tr th:only-of-type {\n",
       "        vertical-align: middle;\n",
       "    }\n",
       "\n",
       "    .dataframe tbody tr th {\n",
       "        vertical-align: top;\n",
       "    }\n",
       "\n",
       "    .dataframe thead th {\n",
       "        text-align: right;\n",
       "    }\n",
       "</style>\n",
       "<table border=\"1\" class=\"dataframe\">\n",
       "  <thead>\n",
       "    <tr style=\"text-align: right;\">\n",
       "      <th></th>\n",
       "      <th>id</th>\n",
       "      <th>is_tv_subscriber</th>\n",
       "      <th>is_movie_package_subscriber</th>\n",
       "      <th>subscription_age</th>\n",
       "      <th>bill_avg</th>\n",
       "      <th>reamining_contract</th>\n",
       "      <th>service_failure_count</th>\n",
       "      <th>download_avg</th>\n",
       "      <th>upload_avg</th>\n",
       "      <th>download_over_limit</th>\n",
       "      <th>churn</th>\n",
       "    </tr>\n",
       "  </thead>\n",
       "  <tbody>\n",
       "    <tr>\n",
       "      <th>count</th>\n",
       "      <td>4.005000e+04</td>\n",
       "      <td>40050.000000</td>\n",
       "      <td>40050.000000</td>\n",
       "      <td>40050.000000</td>\n",
       "      <td>40050.000000</td>\n",
       "      <td>40050.000000</td>\n",
       "      <td>40050.000000</td>\n",
       "      <td>40050.000000</td>\n",
       "      <td>40050.000000</td>\n",
       "      <td>40050.000000</td>\n",
       "      <td>40050.0</td>\n",
       "    </tr>\n",
       "    <tr>\n",
       "      <th>mean</th>\n",
       "      <td>6.483943e+05</td>\n",
       "      <td>0.701223</td>\n",
       "      <td>0.204619</td>\n",
       "      <td>2.226554</td>\n",
       "      <td>18.692859</td>\n",
       "      <td>0.092976</td>\n",
       "      <td>0.290037</td>\n",
       "      <td>26.838312</td>\n",
       "      <td>2.767698</td>\n",
       "      <td>0.349213</td>\n",
       "      <td>1.0</td>\n",
       "    </tr>\n",
       "    <tr>\n",
       "      <th>std</th>\n",
       "      <td>4.322926e+05</td>\n",
       "      <td>0.457727</td>\n",
       "      <td>0.403428</td>\n",
       "      <td>1.709438</td>\n",
       "      <td>13.073794</td>\n",
       "      <td>0.339111</td>\n",
       "      <td>0.865134</td>\n",
       "      <td>46.137197</td>\n",
       "      <td>7.932245</td>\n",
       "      <td>1.290545</td>\n",
       "      <td>0.0</td>\n",
       "    </tr>\n",
       "    <tr>\n",
       "      <th>min</th>\n",
       "      <td>1.800000e+01</td>\n",
       "      <td>0.000000</td>\n",
       "      <td>0.000000</td>\n",
       "      <td>-0.020000</td>\n",
       "      <td>0.000000</td>\n",
       "      <td>0.000000</td>\n",
       "      <td>0.000000</td>\n",
       "      <td>0.000000</td>\n",
       "      <td>0.000000</td>\n",
       "      <td>0.000000</td>\n",
       "      <td>1.0</td>\n",
       "    </tr>\n",
       "    <tr>\n",
       "      <th>25%</th>\n",
       "      <td>2.863745e+05</td>\n",
       "      <td>0.000000</td>\n",
       "      <td>0.000000</td>\n",
       "      <td>0.980000</td>\n",
       "      <td>13.000000</td>\n",
       "      <td>0.000000</td>\n",
       "      <td>0.000000</td>\n",
       "      <td>0.000000</td>\n",
       "      <td>0.000000</td>\n",
       "      <td>0.000000</td>\n",
       "      <td>1.0</td>\n",
       "    </tr>\n",
       "    <tr>\n",
       "      <th>50%</th>\n",
       "      <td>5.907300e+05</td>\n",
       "      <td>1.000000</td>\n",
       "      <td>0.000000</td>\n",
       "      <td>1.970000</td>\n",
       "      <td>20.000000</td>\n",
       "      <td>0.000000</td>\n",
       "      <td>0.000000</td>\n",
       "      <td>11.900000</td>\n",
       "      <td>0.900000</td>\n",
       "      <td>0.000000</td>\n",
       "      <td>1.0</td>\n",
       "    </tr>\n",
       "    <tr>\n",
       "      <th>75%</th>\n",
       "      <td>9.498655e+05</td>\n",
       "      <td>1.000000</td>\n",
       "      <td>0.000000</td>\n",
       "      <td>2.940000</td>\n",
       "      <td>23.000000</td>\n",
       "      <td>0.000000</td>\n",
       "      <td>0.000000</td>\n",
       "      <td>36.700000</td>\n",
       "      <td>2.900000</td>\n",
       "      <td>0.000000</td>\n",
       "      <td>1.0</td>\n",
       "    </tr>\n",
       "    <tr>\n",
       "      <th>max</th>\n",
       "      <td>1.689744e+06</td>\n",
       "      <td>1.000000</td>\n",
       "      <td>1.000000</td>\n",
       "      <td>12.800000</td>\n",
       "      <td>278.000000</td>\n",
       "      <td>2.310000</td>\n",
       "      <td>19.000000</td>\n",
       "      <td>1706.200000</td>\n",
       "      <td>327.200000</td>\n",
       "      <td>7.000000</td>\n",
       "      <td>1.0</td>\n",
       "    </tr>\n",
       "  </tbody>\n",
       "</table>\n",
       "</div>"
      ],
      "text/plain": [
       "                 id  is_tv_subscriber  is_movie_package_subscriber  \\\n",
       "count  4.005000e+04      40050.000000                 40050.000000   \n",
       "mean   6.483943e+05          0.701223                     0.204619   \n",
       "std    4.322926e+05          0.457727                     0.403428   \n",
       "min    1.800000e+01          0.000000                     0.000000   \n",
       "25%    2.863745e+05          0.000000                     0.000000   \n",
       "50%    5.907300e+05          1.000000                     0.000000   \n",
       "75%    9.498655e+05          1.000000                     0.000000   \n",
       "max    1.689744e+06          1.000000                     1.000000   \n",
       "\n",
       "       subscription_age      bill_avg  reamining_contract  \\\n",
       "count      40050.000000  40050.000000        40050.000000   \n",
       "mean           2.226554     18.692859            0.092976   \n",
       "std            1.709438     13.073794            0.339111   \n",
       "min           -0.020000      0.000000            0.000000   \n",
       "25%            0.980000     13.000000            0.000000   \n",
       "50%            1.970000     20.000000            0.000000   \n",
       "75%            2.940000     23.000000            0.000000   \n",
       "max           12.800000    278.000000            2.310000   \n",
       "\n",
       "       service_failure_count  download_avg    upload_avg  download_over_limit  \\\n",
       "count           40050.000000  40050.000000  40050.000000         40050.000000   \n",
       "mean                0.290037     26.838312      2.767698             0.349213   \n",
       "std                 0.865134     46.137197      7.932245             1.290545   \n",
       "min                 0.000000      0.000000      0.000000             0.000000   \n",
       "25%                 0.000000      0.000000      0.000000             0.000000   \n",
       "50%                 0.000000     11.900000      0.900000             0.000000   \n",
       "75%                 0.000000     36.700000      2.900000             0.000000   \n",
       "max                19.000000   1706.200000    327.200000             7.000000   \n",
       "\n",
       "         churn  \n",
       "count  40050.0  \n",
       "mean       1.0  \n",
       "std        0.0  \n",
       "min        1.0  \n",
       "25%        1.0  \n",
       "50%        1.0  \n",
       "75%        1.0  \n",
       "max        1.0  "
      ]
     },
     "execution_count": 25,
     "metadata": {},
     "output_type": "execute_result"
    }
   ],
   "source": [
    "isChurn.describe()"
   ]
  },
  {
   "cell_type": "markdown",
   "id": "3d513325",
   "metadata": {},
   "source": [
    "## CMAST Model\n",
    "For the actual meaning of those attributes, construct the churn model:\n",
    "\n",
    "- C (Contract States) = reamining_contract  \n",
    "- M (Consumption Amount) = download_avg + upload_avg + bill_avg  \n",
    "- A (Activation) = is_tv_subscriber + is_movie_package_subscriber  \n",
    "- S (Satisfaction) = service_failure_count + download_over_limit  \n",
    "- T (Service Time) = subscription_age"
   ]
  },
  {
   "cell_type": "code",
   "execution_count": 75,
   "id": "faf0f0cb",
   "metadata": {},
   "outputs": [
    {
     "data": {
      "text/html": [
       "<div>\n",
       "<style scoped>\n",
       "    .dataframe tbody tr th:only-of-type {\n",
       "        vertical-align: middle;\n",
       "    }\n",
       "\n",
       "    .dataframe tbody tr th {\n",
       "        vertical-align: top;\n",
       "    }\n",
       "\n",
       "    .dataframe thead th {\n",
       "        text-align: right;\n",
       "    }\n",
       "</style>\n",
       "<table border=\"1\" class=\"dataframe\">\n",
       "  <thead>\n",
       "    <tr style=\"text-align: right;\">\n",
       "      <th></th>\n",
       "      <th>C</th>\n",
       "      <th>M</th>\n",
       "      <th>A</th>\n",
       "      <th>S</th>\n",
       "      <th>T</th>\n",
       "    </tr>\n",
       "  </thead>\n",
       "  <tbody>\n",
       "    <tr>\n",
       "      <th>0</th>\n",
       "      <td>0.00</td>\n",
       "      <td>0.0</td>\n",
       "      <td>0</td>\n",
       "      <td>0</td>\n",
       "      <td>8.22</td>\n",
       "    </tr>\n",
       "    <tr>\n",
       "      <th>1</th>\n",
       "      <td>0.00</td>\n",
       "      <td>30.6</td>\n",
       "      <td>1</td>\n",
       "      <td>0</td>\n",
       "      <td>8.91</td>\n",
       "    </tr>\n",
       "    <tr>\n",
       "      <th>2</th>\n",
       "      <td>0.00</td>\n",
       "      <td>21.0</td>\n",
       "      <td>0</td>\n",
       "      <td>1</td>\n",
       "      <td>6.87</td>\n",
       "    </tr>\n",
       "    <tr>\n",
       "      <th>3</th>\n",
       "      <td>0.00</td>\n",
       "      <td>0.0</td>\n",
       "      <td>0</td>\n",
       "      <td>0</td>\n",
       "      <td>6.39</td>\n",
       "    </tr>\n",
       "    <tr>\n",
       "      <th>4</th>\n",
       "      <td>0.00</td>\n",
       "      <td>41.3</td>\n",
       "      <td>0</td>\n",
       "      <td>0</td>\n",
       "      <td>8.96</td>\n",
       "    </tr>\n",
       "    <tr>\n",
       "      <th>...</th>\n",
       "      <td>...</td>\n",
       "      <td>...</td>\n",
       "      <td>...</td>\n",
       "      <td>...</td>\n",
       "      <td>...</td>\n",
       "    </tr>\n",
       "    <tr>\n",
       "      <th>40045</th>\n",
       "      <td>1.25</td>\n",
       "      <td>0.0</td>\n",
       "      <td>2</td>\n",
       "      <td>0</td>\n",
       "      <td>0.09</td>\n",
       "    </tr>\n",
       "    <tr>\n",
       "      <th>40046</th>\n",
       "      <td>1.63</td>\n",
       "      <td>1.8</td>\n",
       "      <td>1</td>\n",
       "      <td>0</td>\n",
       "      <td>0.06</td>\n",
       "    </tr>\n",
       "    <tr>\n",
       "      <th>40047</th>\n",
       "      <td>2.19</td>\n",
       "      <td>1.7</td>\n",
       "      <td>1</td>\n",
       "      <td>0</td>\n",
       "      <td>0.02</td>\n",
       "    </tr>\n",
       "    <tr>\n",
       "      <th>40048</th>\n",
       "      <td>0.72</td>\n",
       "      <td>0.0</td>\n",
       "      <td>0</td>\n",
       "      <td>0</td>\n",
       "      <td>0.01</td>\n",
       "    </tr>\n",
       "    <tr>\n",
       "      <th>40049</th>\n",
       "      <td>0.82</td>\n",
       "      <td>0.0</td>\n",
       "      <td>2</td>\n",
       "      <td>0</td>\n",
       "      <td>0.01</td>\n",
       "    </tr>\n",
       "  </tbody>\n",
       "</table>\n",
       "<p>40050 rows × 5 columns</p>\n",
       "</div>"
      ],
      "text/plain": [
       "          C     M  A  S     T\n",
       "0      0.00   0.0  0  0  8.22\n",
       "1      0.00  30.6  1  0  8.91\n",
       "2      0.00  21.0  0  1  6.87\n",
       "3      0.00   0.0  0  0  6.39\n",
       "4      0.00  41.3  0  0  8.96\n",
       "...     ...   ... .. ..   ...\n",
       "40045  1.25   0.0  2  0  0.09\n",
       "40046  1.63   1.8  1  0  0.06\n",
       "40047  2.19   1.7  1  0  0.02\n",
       "40048  0.72   0.0  0  0  0.01\n",
       "40049  0.82   0.0  2  0  0.01\n",
       "\n",
       "[40050 rows x 5 columns]"
      ]
     },
     "execution_count": 75,
     "metadata": {},
     "output_type": "execute_result"
    }
   ],
   "source": [
    "cal = {\n",
    "    \"C\": isChurn[\"reamining_contract\"]\n",
    "    ,\"M\": isChurn[\"download_avg\"]+isChurn[\"upload_avg\"]+isChurn[\"bill_avg\"]\n",
    "    ,\"A\": isChurn[\"is_tv_subscriber\"]+isChurn[\"is_movie_package_subscriber\"]\n",
    "    ,\"S\": isChurn[\"service_failure_count\"]+isChurn[\"download_over_limit\"]\n",
    "    ,\"T\": isChurn[\"subscription_age\"]   \n",
    "}\n",
    "\n",
    "data_class = pd.DataFrame(data=cal,columns=[\"C\",\"M\",\"A\",\"S\",\"T\"])\n",
    "data_class"
   ]
  },
  {
   "cell_type": "code",
   "execution_count": 76,
   "id": "c2a9fc6f",
   "metadata": {},
   "outputs": [
    {
     "data": {
      "text/html": [
       "<div>\n",
       "<style scoped>\n",
       "    .dataframe tbody tr th:only-of-type {\n",
       "        vertical-align: middle;\n",
       "    }\n",
       "\n",
       "    .dataframe tbody tr th {\n",
       "        vertical-align: top;\n",
       "    }\n",
       "\n",
       "    .dataframe thead th {\n",
       "        text-align: right;\n",
       "    }\n",
       "</style>\n",
       "<table border=\"1\" class=\"dataframe\">\n",
       "  <thead>\n",
       "    <tr style=\"text-align: right;\">\n",
       "      <th></th>\n",
       "      <th>C</th>\n",
       "      <th>M</th>\n",
       "      <th>A</th>\n",
       "      <th>S</th>\n",
       "      <th>T</th>\n",
       "    </tr>\n",
       "  </thead>\n",
       "  <tbody>\n",
       "    <tr>\n",
       "      <th>0</th>\n",
       "      <td>-0.274177</td>\n",
       "      <td>-0.835332</td>\n",
       "      <td>-1.288250</td>\n",
       "      <td>-0.411060</td>\n",
       "      <td>3.506135</td>\n",
       "    </tr>\n",
       "    <tr>\n",
       "      <th>1</th>\n",
       "      <td>-0.274177</td>\n",
       "      <td>-0.306103</td>\n",
       "      <td>0.133906</td>\n",
       "      <td>-0.411060</td>\n",
       "      <td>3.909781</td>\n",
       "    </tr>\n",
       "    <tr>\n",
       "      <th>2</th>\n",
       "      <td>-0.274177</td>\n",
       "      <td>-0.472136</td>\n",
       "      <td>-1.288250</td>\n",
       "      <td>0.231974</td>\n",
       "      <td>2.716392</td>\n",
       "    </tr>\n",
       "    <tr>\n",
       "      <th>3</th>\n",
       "      <td>-0.274177</td>\n",
       "      <td>-0.835332</td>\n",
       "      <td>-1.288250</td>\n",
       "      <td>-0.411060</td>\n",
       "      <td>2.435594</td>\n",
       "    </tr>\n",
       "    <tr>\n",
       "      <th>4</th>\n",
       "      <td>-0.274177</td>\n",
       "      <td>-0.121046</td>\n",
       "      <td>-1.288250</td>\n",
       "      <td>-0.411060</td>\n",
       "      <td>3.939031</td>\n",
       "    </tr>\n",
       "    <tr>\n",
       "      <th>...</th>\n",
       "      <td>...</td>\n",
       "      <td>...</td>\n",
       "      <td>...</td>\n",
       "      <td>...</td>\n",
       "      <td>...</td>\n",
       "    </tr>\n",
       "    <tr>\n",
       "      <th>40045</th>\n",
       "      <td>3.411973</td>\n",
       "      <td>-0.835332</td>\n",
       "      <td>1.556063</td>\n",
       "      <td>-0.411060</td>\n",
       "      <td>-1.249873</td>\n",
       "    </tr>\n",
       "    <tr>\n",
       "      <th>40046</th>\n",
       "      <td>4.532562</td>\n",
       "      <td>-0.804201</td>\n",
       "      <td>0.133906</td>\n",
       "      <td>-0.411060</td>\n",
       "      <td>-1.267422</td>\n",
       "    </tr>\n",
       "    <tr>\n",
       "      <th>40047</th>\n",
       "      <td>6.183957</td>\n",
       "      <td>-0.805931</td>\n",
       "      <td>0.133906</td>\n",
       "      <td>-0.411060</td>\n",
       "      <td>-1.290822</td>\n",
       "    </tr>\n",
       "    <tr>\n",
       "      <th>40048</th>\n",
       "      <td>1.849045</td>\n",
       "      <td>-0.835332</td>\n",
       "      <td>-1.288250</td>\n",
       "      <td>-0.411060</td>\n",
       "      <td>-1.296672</td>\n",
       "    </tr>\n",
       "    <tr>\n",
       "      <th>40049</th>\n",
       "      <td>2.143937</td>\n",
       "      <td>-0.835332</td>\n",
       "      <td>1.556063</td>\n",
       "      <td>-0.411060</td>\n",
       "      <td>-1.296672</td>\n",
       "    </tr>\n",
       "  </tbody>\n",
       "</table>\n",
       "<p>40050 rows × 5 columns</p>\n",
       "</div>"
      ],
      "text/plain": [
       "              C         M         A         S         T\n",
       "0     -0.274177 -0.835332 -1.288250 -0.411060  3.506135\n",
       "1     -0.274177 -0.306103  0.133906 -0.411060  3.909781\n",
       "2     -0.274177 -0.472136 -1.288250  0.231974  2.716392\n",
       "3     -0.274177 -0.835332 -1.288250 -0.411060  2.435594\n",
       "4     -0.274177 -0.121046 -1.288250 -0.411060  3.939031\n",
       "...         ...       ...       ...       ...       ...\n",
       "40045  3.411973 -0.835332  1.556063 -0.411060 -1.249873\n",
       "40046  4.532562 -0.804201  0.133906 -0.411060 -1.267422\n",
       "40047  6.183957 -0.805931  0.133906 -0.411060 -1.290822\n",
       "40048  1.849045 -0.835332 -1.288250 -0.411060 -1.296672\n",
       "40049  2.143937 -0.835332  1.556063 -0.411060 -1.296672\n",
       "\n",
       "[40050 rows x 5 columns]"
      ]
     },
     "execution_count": 76,
     "metadata": {},
     "output_type": "execute_result"
    }
   ],
   "source": [
    "data_class = pd.DataFrame(scale(data_class),columns=[\"C\",\"M\",\"A\",\"S\",\"T\"])\n",
    "data_class_ID = pd.concat([isChurn[[\"id\"]],data_class],axis=1)\n",
    "data_class"
   ]
  },
  {
   "cell_type": "code",
   "execution_count": 77,
   "id": "1fd9405c",
   "metadata": {},
   "outputs": [],
   "source": [
    "# sklearn k-means\n",
    "from sklearn.cluster import KMeans\n",
    "from sklearn.metrics import silhouette_score"
   ]
  },
  {
   "cell_type": "code",
   "execution_count": 78,
   "id": "e6a95e71",
   "metadata": {},
   "outputs": [
    {
     "data": {
      "text/plain": [
       "KMeans(n_clusters=2, random_state=888)"
      ]
     },
     "execution_count": 78,
     "metadata": {},
     "output_type": "execute_result"
    },
    {
     "data": {
      "text/plain": [
       "KMeans(n_clusters=3, random_state=888)"
      ]
     },
     "execution_count": 78,
     "metadata": {},
     "output_type": "execute_result"
    },
    {
     "data": {
      "text/plain": [
       "KMeans(n_clusters=4, random_state=888)"
      ]
     },
     "execution_count": 78,
     "metadata": {},
     "output_type": "execute_result"
    },
    {
     "data": {
      "text/plain": [
       "KMeans(n_clusters=5, random_state=888)"
      ]
     },
     "execution_count": 78,
     "metadata": {},
     "output_type": "execute_result"
    },
    {
     "data": {
      "text/plain": [
       "KMeans(n_clusters=6, random_state=888)"
      ]
     },
     "execution_count": 78,
     "metadata": {},
     "output_type": "execute_result"
    },
    {
     "data": {
      "text/plain": [
       "KMeans(n_clusters=7, random_state=888)"
      ]
     },
     "execution_count": 78,
     "metadata": {},
     "output_type": "execute_result"
    },
    {
     "data": {
      "text/plain": [
       "KMeans(random_state=888)"
      ]
     },
     "execution_count": 78,
     "metadata": {},
     "output_type": "execute_result"
    },
    {
     "data": {
      "text/plain": [
       "KMeans(n_clusters=9, random_state=888)"
      ]
     },
     "execution_count": 78,
     "metadata": {},
     "output_type": "execute_result"
    },
    {
     "data": {
      "text/plain": [
       "<Figure size 720x432 with 0 Axes>"
      ]
     },
     "execution_count": 78,
     "metadata": {},
     "output_type": "execute_result"
    },
    {
     "data": {
      "text/plain": [
       "<AxesSubplot:>"
      ]
     },
     "execution_count": 78,
     "metadata": {},
     "output_type": "execute_result"
    },
    {
     "data": {
      "text/plain": [
       "[<matplotlib.lines.Line2D at 0x7fe060447b50>]"
      ]
     },
     "execution_count": 78,
     "metadata": {},
     "output_type": "execute_result"
    },
    {
     "data": {
      "text/plain": [
       "Text(0.5, 0, 'K')"
      ]
     },
     "execution_count": 78,
     "metadata": {},
     "output_type": "execute_result"
    },
    {
     "data": {
      "text/plain": [
       "Text(0, 0.5, 'Score')"
      ]
     },
     "execution_count": 78,
     "metadata": {},
     "output_type": "execute_result"
    },
    {
     "data": {
      "text/plain": [
       "Text(0.5, 1.0, 'Performance of K-means')"
      ]
     },
     "execution_count": 78,
     "metadata": {},
     "output_type": "execute_result"
    },
    {
     "data": {
      "text/plain": [
       "<AxesSubplot:>"
      ]
     },
     "execution_count": 78,
     "metadata": {},
     "output_type": "execute_result"
    },
    {
     "data": {
      "text/plain": [
       "[<matplotlib.lines.Line2D at 0x7fe0506ae790>]"
      ]
     },
     "execution_count": 78,
     "metadata": {},
     "output_type": "execute_result"
    },
    {
     "data": {
      "text/plain": [
       "Text(0.5, 0, 'K')"
      ]
     },
     "execution_count": 78,
     "metadata": {},
     "output_type": "execute_result"
    },
    {
     "data": {
      "text/plain": [
       "Text(0, 0.5, 'Inertia')"
      ]
     },
     "execution_count": 78,
     "metadata": {},
     "output_type": "execute_result"
    },
    {
     "data": {
      "text/plain": [
       "Text(0.5, 1.0, 'Inertia of K-means')"
      ]
     },
     "execution_count": 78,
     "metadata": {},
     "output_type": "execute_result"
    },
    {
     "data": {
      "image/png": "[encoded data removed]",
      "text/plain": [
       "<Figure size 720x432 with 2 Axes>"
      ]
     },
     "metadata": {},
     "output_type": "display_data"
    }
   ],
   "source": [
    "score = []\n",
    "inertia = []\n",
    "nums=range(2,10)\n",
    "\n",
    "for n_clusters in range(2,10):\n",
    "    kmeans = KMeans(n_clusters = n_clusters, random_state=888)\n",
    "    kmeans.fit(data_class)\n",
    "    inertia.append(kmeans.inertia_)\n",
    "    score.append(silhouette_score(data_class, kmeans.labels_, \n",
    "                                  sample_size=128, metric='euclidean'))\n",
    "\n",
    "plt.figure(figsize=(10, 6))\n",
    "\n",
    "plt.style.use('seaborn-darkgrid')\n",
    "plt.subplot(121)\n",
    "plt.plot(nums,score)\n",
    "plt.grid(linestyle=':')\n",
    "plt.xlabel('K')\n",
    "plt.ylabel('Score')\n",
    "plt.title('Performance of K-means')\n",
    "\n",
    "plt.subplot(122)\n",
    "plt.plot(nums,inertia)\n",
    "plt.grid(linestyle=':')\n",
    "plt.xlabel('K')\n",
    "plt.ylabel('Inertia')\n",
    "plt.title('Inertia of K-means')\n",
    "plt.show()"
   ]
  },
  {
   "cell_type": "code",
   "execution_count": 79,
   "id": "834c5628",
   "metadata": {},
   "outputs": [
    {
     "data": {
      "text/plain": [
       "KMeans(n_clusters=6)"
      ]
     },
     "execution_count": 79,
     "metadata": {},
     "output_type": "execute_result"
    },
    {
     "name": "stdout",
     "output_type": "stream",
     "text": [
      "[0 0 0 ... 3 2 3]\n"
     ]
    }
   ],
   "source": [
    "# k = 6 is the best \n",
    "k = 6\n",
    "\n",
    "model_KM = KMeans(n_clusters=k)\n",
    "model_KM.fit(data_class) \n",
    "\n",
    "print(model_KM.labels_) "
   ]
  },
  {
   "cell_type": "code",
   "execution_count": 80,
   "id": "54d256d8",
   "metadata": {},
   "outputs": [],
   "source": [
    "centers = pd.DataFrame(model_KM.cluster_centers_,columns=data_class.columns)\n",
    "labels = pd.DataFrame(model_KM.labels_,columns=[\"cluster_class\"]) "
   ]
  },
  {
   "cell_type": "code",
   "execution_count": 81,
   "id": "f786d271",
   "metadata": {},
   "outputs": [
    {
     "data": {
      "text/html": [
       "<div>\n",
       "<style scoped>\n",
       "    .dataframe tbody tr th:only-of-type {\n",
       "        vertical-align: middle;\n",
       "    }\n",
       "\n",
       "    .dataframe tbody tr th {\n",
       "        vertical-align: top;\n",
       "    }\n",
       "\n",
       "    .dataframe thead th {\n",
       "        text-align: right;\n",
       "    }\n",
       "</style>\n",
       "<table border=\"1\" class=\"dataframe\">\n",
       "  <thead>\n",
       "    <tr style=\"text-align: right;\">\n",
       "      <th></th>\n",
       "      <th>cluster_class</th>\n",
       "      <th>cluster_num</th>\n",
       "      <th>C</th>\n",
       "      <th>M</th>\n",
       "      <th>A</th>\n",
       "      <th>S</th>\n",
       "      <th>T</th>\n",
       "    </tr>\n",
       "  </thead>\n",
       "  <tbody>\n",
       "    <tr>\n",
       "      <th>0</th>\n",
       "      <td>class_1</td>\n",
       "      <td>5659</td>\n",
       "      <td>-0.218828</td>\n",
       "      <td>0.075537</td>\n",
       "      <td>0.313688</td>\n",
       "      <td>-0.227904</td>\n",
       "      <td>1.782962</td>\n",
       "    </tr>\n",
       "    <tr>\n",
       "      <th>1</th>\n",
       "      <td>class_2</td>\n",
       "      <td>1395</td>\n",
       "      <td>-0.114658</td>\n",
       "      <td>3.300728</td>\n",
       "      <td>0.133906</td>\n",
       "      <td>-0.074866</td>\n",
       "      <td>-0.072260</td>\n",
       "    </tr>\n",
       "    <tr>\n",
       "      <th>2</th>\n",
       "      <td>class_3</td>\n",
       "      <td>9322</td>\n",
       "      <td>-0.255118</td>\n",
       "      <td>-0.252971</td>\n",
       "      <td>-1.288250</td>\n",
       "      <td>-0.220537</td>\n",
       "      <td>-0.298799</td>\n",
       "    </tr>\n",
       "    <tr>\n",
       "      <th>3</th>\n",
       "      <td>class_4</td>\n",
       "      <td>2332</td>\n",
       "      <td>3.753665</td>\n",
       "      <td>0.238278</td>\n",
       "      <td>0.508351</td>\n",
       "      <td>-0.154067</td>\n",
       "      <td>-0.280738</td>\n",
       "    </tr>\n",
       "    <tr>\n",
       "      <th>4</th>\n",
       "      <td>class_5</td>\n",
       "      <td>2679</td>\n",
       "      <td>-0.203795</td>\n",
       "      <td>-0.555980</td>\n",
       "      <td>-0.037028</td>\n",
       "      <td>3.214076</td>\n",
       "      <td>0.172612</td>\n",
       "    </tr>\n",
       "    <tr>\n",
       "      <th>5</th>\n",
       "      <td>class_6</td>\n",
       "      <td>18663</td>\n",
       "      <td>-0.237469</td>\n",
       "      <td>-0.094478</td>\n",
       "      <td>0.480242</td>\n",
       "      <td>-0.257323</td>\n",
       "      <td>-0.375447</td>\n",
       "    </tr>\n",
       "  </tbody>\n",
       "</table>\n",
       "</div>"
      ],
      "text/plain": [
       "  cluster_class  cluster_num         C         M         A         S         T\n",
       "0       class_1         5659 -0.218828  0.075537  0.313688 -0.227904  1.782962\n",
       "1       class_2         1395 -0.114658  3.300728  0.133906 -0.074866 -0.072260\n",
       "2       class_3         9322 -0.255118 -0.252971 -1.288250 -0.220537 -0.298799\n",
       "3       class_4         2332  3.753665  0.238278  0.508351 -0.154067 -0.280738\n",
       "4       class_5         2679 -0.203795 -0.555980 -0.037028  3.214076  0.172612\n",
       "5       class_6        18663 -0.237469 -0.094478  0.480242 -0.257323 -0.375447"
      ]
     },
     "execution_count": 81,
     "metadata": {},
     "output_type": "execute_result"
    }
   ],
   "source": [
    "# each class numbers\n",
    "labels_count = pd.DataFrame(labels.value_counts(),columns=[\"cluster_num\"]).sort_index()\n",
    "labels_count = labels_count.reset_index()\n",
    "\n",
    "# each class numbers and the information of CMASL model\n",
    "data_cluster = pd.concat([labels_count,centers],axis=1)\n",
    "data_cluster[\"cluster_class\"] = [\"class_1\",\"class_2\",\"class_3\",\"class_4\",\"class_5\",\"class_6\"]\n",
    "data_cluster"
   ]
  },
  {
   "cell_type": "code",
   "execution_count": 82,
   "id": "de165262",
   "metadata": {},
   "outputs": [
    {
     "data": {
      "text/plain": [
       "([<matplotlib.patches.Wedge at 0x7fe050700220>,\n",
       "  <matplotlib.patches.Wedge at 0x7fe050700c40>,\n",
       "  <matplotlib.patches.Wedge at 0x7fe05070c610>,\n",
       "  <matplotlib.patches.Wedge at 0x7fe05070cfa0>,\n",
       "  <matplotlib.patches.Wedge at 0x7fe05071a970>,\n",
       "  <matplotlib.patches.Wedge at 0x7fe09236e340>],\n",
       " [Text(-0.9693798539964704, 0.7073207890807267, 'class_1'),\n",
       "  Text(-0.7048852678658226, -0.9711522842200021, 'class_2'),\n",
       "  Text(-0.08952853363488682, -1.196655606958488, 'class_3'),\n",
       "  Text(0.6294244281762589, -1.0216774878673747, 'class_4'),\n",
       "  Text(0.9727532777808507, -0.702674220792688, 'class_5'),\n",
       "  Text(1.140626160152709, 0.3727894349029846, 'class_6')],\n",
       " [Text(-0.565471581497941, 0.4126037936304239, '46.60%'),\n",
       "  Text(-0.4111830729217298, -0.5665054991283345, '3.48%'),\n",
       "  Text(-0.05222497795368398, -0.6980491040591179, '14.13%'),\n",
       "  Text(0.3671642497694843, -0.5959785345893018, '5.82%'),\n",
       "  Text(0.5674394120388295, -0.4098932954624013, '6.69%'),\n",
       "  Text(0.6653652600890803, 0.2174605036934077, '23.28%')])"
      ]
     },
     "execution_count": 82,
     "metadata": {},
     "output_type": "execute_result"
    },
    {
     "data": {
      "text/plain": [
       "(-1.2117943130553683,\n",
       " 1.2332761048598997,\n",
       " -1.2178371513897677,\n",
       " 1.1981657129417755)"
      ]
     },
     "execution_count": 82,
     "metadata": {},
     "output_type": "execute_result"
    },
    {
     "data": {
      "image/png": "[encoded data removed]",
      "text/plain": [
       "<Figure size 432x288 with 1 Axes>"
      ]
     },
     "metadata": {},
     "output_type": "display_data"
    }
   ],
   "source": [
    "import matplotlib.pyplot as plt\n",
    "\n",
    "y = ['class_1','class_2','class_3','class_4','class_5','class_6']\n",
    "\n",
    "x = [18664, 1393, 5659, 2332, 2679, 9323]\n",
    "\n",
    "explode = (0.1,0.1,0.1,0.1,0.1,0.1)\n",
    "\n",
    "\n",
    "plt.pie(x,labels=y,autopct='%3.2f%%',explode=explode,shadow=True,startangle=60)\n",
    "\n",
    "plt.axis('equal')\n",
    "\n",
    "plt.show()"
   ]
  },
  {
   "cell_type": "code",
   "execution_count": 83,
   "id": "48abe6d7",
   "metadata": {},
   "outputs": [
    {
     "data": {
      "text/plain": [
       "<Figure size 1080x432 with 0 Axes>"
      ]
     },
     "execution_count": 83,
     "metadata": {},
     "output_type": "execute_result"
    },
    {
     "data": {
      "text/plain": [
       "<AxesSubplot:>"
      ]
     },
     "execution_count": 83,
     "metadata": {},
     "output_type": "execute_result"
    },
    {
     "data": {
      "image/png": "[encoded data removed]",
      "text/plain": [
       "<Figure size 1080x432 with 2 Axes>"
      ]
     },
     "metadata": {},
     "output_type": "display_data"
    }
   ],
   "source": [
    "plt.figure(figsize=(15,6))\n",
    "sns.heatmap(data=centers,xticklabels=centers.columns,yticklabels = data_cluster[\"cluster_class\"],annot=True,cmap=\"Blues\")"
   ]
  },
  {
   "cell_type": "code",
   "execution_count": 84,
   "id": "70b60fb7",
   "metadata": {},
   "outputs": [],
   "source": [
    "import numpy as np\n",
    "import matplotlib.pyplot as plt\n",
    "\n",
    "def plot_radar(data):\n",
    "    kinds = data.iloc[:, 0]\n",
    "    labels = data.iloc[:, 2:].columns\n",
    "    centers = pd.concat([data.iloc[:, 2:], data.iloc[:,2]], axis=1)\n",
    "    centers = np.array(centers)\n",
    "    n = len(labels)\n",
    "    angles = np.linspace(0, 2*np.pi, n, endpoint=False)\n",
    "    labels = np.concatenate((labels, [labels[0]]))\n",
    "    angles = np.concatenate((angles, [angles[0]]))\n",
    "    \n",
    "    fig = plt.figure()\n",
    "    ax = fig.add_subplot(111, polar=True) \n",
    "    \n",
    "    floor = np.floor(centers.min())    \n",
    "    ceil = np.ceil(centers.max())     \n",
    "    for i in np.arange(floor, ceil + 0.5, 0.5):\n",
    "        ax.plot(angles, [i] * (n + 1), '--', lw=0.5 , color='black')\n",
    "    \n",
    "    for i in range(n):\n",
    "        ax.plot([angles[i], angles[i]], [floor, ceil], '--', lw=0.5, color='black')\n",
    "    \n",
    "    for i in range(len(kinds)):\n",
    "        ax.plot(angles, centers[i], lw=2, label=kinds[i])\n",
    "        #ax.fill(angles, centers[i])\n",
    "    \n",
    "    ax.set_thetagrids(angles * 180 / np.pi, labels) \n",
    "    plt.legend(loc='lower right', bbox_to_anchor=(1.5, 0.0)) \n",
    "    \n",
    "    ax.set_theta_zero_location('N')        \n",
    "    ax.spines['polar'].set_visible(False)  \n",
    "    ax.grid(False)                         \n",
    "    ax.set_yticks([]) \n",
    "    \n",
    "    plt.show()"
   ]
  },
  {
   "cell_type": "code",
   "execution_count": 85,
   "id": "693f1494",
   "metadata": {},
   "outputs": [
    {
     "data": {
      "image/png": "[encoded data removed]",
      "text/plain": [
       "<Figure size 432x288 with 1 Axes>"
      ]
     },
     "metadata": {},
     "output_type": "display_data"
    }
   ],
   "source": [
    "plot_radar(data_cluster)"
   ]
  },
  {
   "cell_type": "code",
   "execution_count": 74,
   "id": "b3068abe",
   "metadata": {},
   "outputs": [
    {
     "data": {
      "text/html": [
       "<div>\n",
       "<style scoped>\n",
       "    .dataframe tbody tr th:only-of-type {\n",
       "        vertical-align: middle;\n",
       "    }\n",
       "\n",
       "    .dataframe tbody tr th {\n",
       "        vertical-align: top;\n",
       "    }\n",
       "\n",
       "    .dataframe thead th {\n",
       "        text-align: right;\n",
       "    }\n",
       "</style>\n",
       "<table border=\"1\" class=\"dataframe\">\n",
       "  <thead>\n",
       "    <tr style=\"text-align: right;\">\n",
       "      <th></th>\n",
       "      <th>cluster_class</th>\n",
       "      <th>id</th>\n",
       "      <th>is_tv_subscriber</th>\n",
       "      <th>is_movie_package_subscriber</th>\n",
       "      <th>subscription_age</th>\n",
       "      <th>bill_avg</th>\n",
       "      <th>reamining_contract</th>\n",
       "      <th>service_failure_count</th>\n",
       "      <th>download_avg</th>\n",
       "      <th>upload_avg</th>\n",
       "      <th>download_over_limit</th>\n",
       "      <th>churn</th>\n",
       "      <th>C</th>\n",
       "      <th>M</th>\n",
       "      <th>A</th>\n",
       "      <th>S</th>\n",
       "      <th>L</th>\n",
       "    </tr>\n",
       "  </thead>\n",
       "  <tbody>\n",
       "    <tr>\n",
       "      <th>0</th>\n",
       "      <td>3</td>\n",
       "      <td>18</td>\n",
       "      <td>0</td>\n",
       "      <td>0</td>\n",
       "      <td>8.22</td>\n",
       "      <td>0</td>\n",
       "      <td>0.00</td>\n",
       "      <td>0</td>\n",
       "      <td>0.0</td>\n",
       "      <td>0.0</td>\n",
       "      <td>0</td>\n",
       "      <td>1</td>\n",
       "      <td>-0.274177</td>\n",
       "      <td>-0.835332</td>\n",
       "      <td>-1.288250</td>\n",
       "      <td>-0.411060</td>\n",
       "      <td>3.506135</td>\n",
       "    </tr>\n",
       "    <tr>\n",
       "      <th>1</th>\n",
       "      <td>3</td>\n",
       "      <td>23</td>\n",
       "      <td>1</td>\n",
       "      <td>0</td>\n",
       "      <td>8.91</td>\n",
       "      <td>16</td>\n",
       "      <td>0.00</td>\n",
       "      <td>0</td>\n",
       "      <td>13.7</td>\n",
       "      <td>0.9</td>\n",
       "      <td>0</td>\n",
       "      <td>1</td>\n",
       "      <td>-0.274177</td>\n",
       "      <td>-0.306103</td>\n",
       "      <td>0.133906</td>\n",
       "      <td>-0.411060</td>\n",
       "      <td>3.909781</td>\n",
       "    </tr>\n",
       "    <tr>\n",
       "      <th>2</th>\n",
       "      <td>3</td>\n",
       "      <td>27</td>\n",
       "      <td>0</td>\n",
       "      <td>0</td>\n",
       "      <td>6.87</td>\n",
       "      <td>21</td>\n",
       "      <td>0.00</td>\n",
       "      <td>1</td>\n",
       "      <td>0.0</td>\n",
       "      <td>0.0</td>\n",
       "      <td>0</td>\n",
       "      <td>1</td>\n",
       "      <td>-0.274177</td>\n",
       "      <td>-0.472136</td>\n",
       "      <td>-1.288250</td>\n",
       "      <td>0.231974</td>\n",
       "      <td>2.716392</td>\n",
       "    </tr>\n",
       "    <tr>\n",
       "      <th>3</th>\n",
       "      <td>3</td>\n",
       "      <td>34</td>\n",
       "      <td>0</td>\n",
       "      <td>0</td>\n",
       "      <td>6.39</td>\n",
       "      <td>0</td>\n",
       "      <td>0.00</td>\n",
       "      <td>0</td>\n",
       "      <td>0.0</td>\n",
       "      <td>0.0</td>\n",
       "      <td>0</td>\n",
       "      <td>1</td>\n",
       "      <td>-0.274177</td>\n",
       "      <td>-0.835332</td>\n",
       "      <td>-1.288250</td>\n",
       "      <td>-0.411060</td>\n",
       "      <td>2.435594</td>\n",
       "    </tr>\n",
       "    <tr>\n",
       "      <th>4</th>\n",
       "      <td>3</td>\n",
       "      <td>71</td>\n",
       "      <td>0</td>\n",
       "      <td>0</td>\n",
       "      <td>8.96</td>\n",
       "      <td>18</td>\n",
       "      <td>0.00</td>\n",
       "      <td>0</td>\n",
       "      <td>21.3</td>\n",
       "      <td>2.0</td>\n",
       "      <td>0</td>\n",
       "      <td>1</td>\n",
       "      <td>-0.274177</td>\n",
       "      <td>-0.121046</td>\n",
       "      <td>-1.288250</td>\n",
       "      <td>-0.411060</td>\n",
       "      <td>3.939031</td>\n",
       "    </tr>\n",
       "    <tr>\n",
       "      <th>...</th>\n",
       "      <td>...</td>\n",
       "      <td>...</td>\n",
       "      <td>...</td>\n",
       "      <td>...</td>\n",
       "      <td>...</td>\n",
       "      <td>...</td>\n",
       "      <td>...</td>\n",
       "      <td>...</td>\n",
       "      <td>...</td>\n",
       "      <td>...</td>\n",
       "      <td>...</td>\n",
       "      <td>...</td>\n",
       "      <td>...</td>\n",
       "      <td>...</td>\n",
       "      <td>...</td>\n",
       "      <td>...</td>\n",
       "      <td>...</td>\n",
       "    </tr>\n",
       "    <tr>\n",
       "      <th>40045</th>\n",
       "      <td>4</td>\n",
       "      <td>1689648</td>\n",
       "      <td>1</td>\n",
       "      <td>1</td>\n",
       "      <td>0.09</td>\n",
       "      <td>0</td>\n",
       "      <td>1.25</td>\n",
       "      <td>0</td>\n",
       "      <td>0.0</td>\n",
       "      <td>0.0</td>\n",
       "      <td>0</td>\n",
       "      <td>1</td>\n",
       "      <td>3.411973</td>\n",
       "      <td>-0.835332</td>\n",
       "      <td>1.556063</td>\n",
       "      <td>-0.411060</td>\n",
       "      <td>-1.249873</td>\n",
       "    </tr>\n",
       "    <tr>\n",
       "      <th>40046</th>\n",
       "      <td>4</td>\n",
       "      <td>1689676</td>\n",
       "      <td>1</td>\n",
       "      <td>0</td>\n",
       "      <td>0.06</td>\n",
       "      <td>1</td>\n",
       "      <td>1.63</td>\n",
       "      <td>0</td>\n",
       "      <td>0.8</td>\n",
       "      <td>0.0</td>\n",
       "      <td>0</td>\n",
       "      <td>1</td>\n",
       "      <td>4.532562</td>\n",
       "      <td>-0.804201</td>\n",
       "      <td>0.133906</td>\n",
       "      <td>-0.411060</td>\n",
       "      <td>-1.267422</td>\n",
       "    </tr>\n",
       "    <tr>\n",
       "      <th>40047</th>\n",
       "      <td>4</td>\n",
       "      <td>1689679</td>\n",
       "      <td>1</td>\n",
       "      <td>0</td>\n",
       "      <td>0.02</td>\n",
       "      <td>0</td>\n",
       "      <td>2.19</td>\n",
       "      <td>0</td>\n",
       "      <td>1.5</td>\n",
       "      <td>0.2</td>\n",
       "      <td>0</td>\n",
       "      <td>1</td>\n",
       "      <td>6.183957</td>\n",
       "      <td>-0.805931</td>\n",
       "      <td>0.133906</td>\n",
       "      <td>-0.411060</td>\n",
       "      <td>-1.290822</td>\n",
       "    </tr>\n",
       "    <tr>\n",
       "      <th>40048</th>\n",
       "      <td>6</td>\n",
       "      <td>1689733</td>\n",
       "      <td>0</td>\n",
       "      <td>0</td>\n",
       "      <td>0.01</td>\n",
       "      <td>0</td>\n",
       "      <td>0.72</td>\n",
       "      <td>0</td>\n",
       "      <td>0.0</td>\n",
       "      <td>0.0</td>\n",
       "      <td>0</td>\n",
       "      <td>1</td>\n",
       "      <td>1.849045</td>\n",
       "      <td>-0.835332</td>\n",
       "      <td>-1.288250</td>\n",
       "      <td>-0.411060</td>\n",
       "      <td>-1.296672</td>\n",
       "    </tr>\n",
       "    <tr>\n",
       "      <th>40049</th>\n",
       "      <td>4</td>\n",
       "      <td>1689744</td>\n",
       "      <td>1</td>\n",
       "      <td>1</td>\n",
       "      <td>0.01</td>\n",
       "      <td>0</td>\n",
       "      <td>0.82</td>\n",
       "      <td>0</td>\n",
       "      <td>0.0</td>\n",
       "      <td>0.0</td>\n",
       "      <td>0</td>\n",
       "      <td>1</td>\n",
       "      <td>2.143937</td>\n",
       "      <td>-0.835332</td>\n",
       "      <td>1.556063</td>\n",
       "      <td>-0.411060</td>\n",
       "      <td>-1.296672</td>\n",
       "    </tr>\n",
       "  </tbody>\n",
       "</table>\n",
       "<p>40050 rows × 17 columns</p>\n",
       "</div>"
      ],
      "text/plain": [
       "       cluster_class       id  is_tv_subscriber  is_movie_package_subscriber  \\\n",
       "0                  3       18                 0                            0   \n",
       "1                  3       23                 1                            0   \n",
       "2                  3       27                 0                            0   \n",
       "3                  3       34                 0                            0   \n",
       "4                  3       71                 0                            0   \n",
       "...              ...      ...               ...                          ...   \n",
       "40045              4  1689648                 1                            1   \n",
       "40046              4  1689676                 1                            0   \n",
       "40047              4  1689679                 1                            0   \n",
       "40048              6  1689733                 0                            0   \n",
       "40049              4  1689744                 1                            1   \n",
       "\n",
       "       subscription_age  bill_avg  reamining_contract  service_failure_count  \\\n",
       "0                  8.22         0                0.00                      0   \n",
       "1                  8.91        16                0.00                      0   \n",
       "2                  6.87        21                0.00                      1   \n",
       "3                  6.39         0                0.00                      0   \n",
       "4                  8.96        18                0.00                      0   \n",
       "...                 ...       ...                 ...                    ...   \n",
       "40045              0.09         0                1.25                      0   \n",
       "40046              0.06         1                1.63                      0   \n",
       "40047              0.02         0                2.19                      0   \n",
       "40048              0.01         0                0.72                      0   \n",
       "40049              0.01         0                0.82                      0   \n",
       "\n",
       "       download_avg  upload_avg  download_over_limit  churn         C  \\\n",
       "0               0.0         0.0                    0      1 -0.274177   \n",
       "1              13.7         0.9                    0      1 -0.274177   \n",
       "2               0.0         0.0                    0      1 -0.274177   \n",
       "3               0.0         0.0                    0      1 -0.274177   \n",
       "4              21.3         2.0                    0      1 -0.274177   \n",
       "...             ...         ...                  ...    ...       ...   \n",
       "40045           0.0         0.0                    0      1  3.411973   \n",
       "40046           0.8         0.0                    0      1  4.532562   \n",
       "40047           1.5         0.2                    0      1  6.183957   \n",
       "40048           0.0         0.0                    0      1  1.849045   \n",
       "40049           0.0         0.0                    0      1  2.143937   \n",
       "\n",
       "              M         A         S         L  \n",
       "0     -0.835332 -1.288250 -0.411060  3.506135  \n",
       "1     -0.306103  0.133906 -0.411060  3.909781  \n",
       "2     -0.472136 -1.288250  0.231974  2.716392  \n",
       "3     -0.835332 -1.288250 -0.411060  2.435594  \n",
       "4     -0.121046 -1.288250 -0.411060  3.939031  \n",
       "...         ...       ...       ...       ...  \n",
       "40045 -0.835332  1.556063 -0.411060 -1.249873  \n",
       "40046 -0.804201  0.133906 -0.411060 -1.267422  \n",
       "40047 -0.805931  0.133906 -0.411060 -1.290822  \n",
       "40048 -0.835332 -1.288250 -0.411060 -1.296672  \n",
       "40049 -0.835332  1.556063 -0.411060 -1.296672  \n",
       "\n",
       "[40050 rows x 17 columns]"
      ]
     },
     "execution_count": 74,
     "metadata": {},
     "output_type": "execute_result"
    }
   ],
   "source": [
    "# Output all information of churns and predict churns\n",
    "data_class_ID = pd.concat([labels+1, isChurn, data_class],axis=1)\n",
    "data_class_ID"
   ]
  },
  {
   "cell_type": "markdown",
   "id": "d56a07fc",
   "metadata": {},
   "source": [
    "# Propose specific solutions for different types of churns"
   ]
  },
  {
   "cell_type": "markdown",
   "id": "a99195bc",
   "metadata": {},
   "source": [
    "(1) class_1: \n",
    "   - The number of such customers is relatively large, and the value in \"T\" dimension is obviously high\n",
    "   - It shows that this kind of lost customers are old customers with long service life\n",
    "   - Old customers need to be retained，It is suggested to do some research for them, perhaps they can provide a lot of effective suggestions"
   ]
  },
  {
   "cell_type": "markdown",
   "id": "60f05e7d",
   "metadata": {},
   "source": [
    "(2) class_2: \n",
    "   - The value in \"T\" dimension is obviously high\n",
    "   - It shows that this kind of customers belong to have obvious consumption ability\n",
    "   - It is suggested to ipmprove the recommendation system for this kinds of customers, to predict their preferences more accurately and push relevant content at a higher frequency to meet their large needs"
   ]
  },
  {
   "cell_type": "markdown",
   "id": "86b2919e",
   "metadata": {},
   "source": [
    "(3) class_3: \n",
    "   - The number of such customers is relatively large, and there is an obvious shortage value in the \"A\" dimension\n",
    "   - It shows that these customers belong to a group with no or few TV and movie subscriptions\n",
    "   - It is recommended to increase the number of times such customers subscribe to the service, or to push some content such as subscription service guide to encourage them to use it。"
   ]
  },
  {
   "cell_type": "markdown",
   "id": "7e0bd0ae",
   "metadata": {},
   "source": [
    "(4) class_4: \n",
    "   - The value in \"C\" dimension is obviously high, and the value in \"S\" and \"T\" dimensions are low.\n",
    "   - Reamining contract is the most important factor to avoid this kinds of costomers, and their consumption level, activity and satisfaction are relatively high. In terms of subscription age, they are relatively young, indicating that although there are not many of them, but they are potential customers\n",
    "   - It is recommended to mark these customers as key customers, and focus on their activities and give them good service feedback"
   ]
  },
  {
   "cell_type": "markdown",
   "id": "e3cdff2f",
   "metadata": {},
   "source": [
    "(5) class_5: \n",
    "   - The value in \"S\" dimension is obviously high, and the value in \"M\" dimension is low.\n",
    "   - It indicates that these customers have low satisfaction and do not like to consume\n",
    "   - Maybe these customers don't like this product, and the consumption value they produce is low, the rate of churn is also low, so it is not recommended to invest in them"
   ]
  },
  {
   "cell_type": "markdown",
   "id": "97cada6e",
   "metadata": {},
   "source": [
    "(6) class_6: \n",
    "   - Each dimension is not particularly prominent, the value in \"A\" dimension is relatively high\n",
    "   - It shows that they subscribed to TV or movie services, but showed no other characteristics\n",
    "   - Although the characteristics of this kind of customers are not obvious, but account for the largest proportion of the weight, It is recommended to investigate the causes of churn"
   ]
  },
  {
   "cell_type": "code",
   "execution_count": null,
   "id": "3c2998f0",
   "metadata": {},
   "outputs": [],
   "source": []
  }
 ],
 "metadata": {
  "kernelspec": {
   "display_name": "Python 3 (ipykernel)",
   "language": "python",
   "name": "python3"
  },
  "language_info": {
   "codemirror_mode": {
    "name": "ipython",
    "version": 3
   },
   "file_extension": ".py",
   "mimetype": "text/x-python",
   "name": "python",
   "nbconvert_exporter": "python",
   "pygments_lexer": "ipython3",
   "version": "3.9.7"
  }
 },
 "nbformat": 4,
 "nbformat_minor": 5
}
